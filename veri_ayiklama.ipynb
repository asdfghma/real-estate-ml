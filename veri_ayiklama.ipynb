{
 "cells": [
  {
   "cell_type": "code",
   "execution_count": 2,
   "id": "cf85e771",
   "metadata": {},
   "outputs": [],
   "source": [
    "import os\n",
    "import numpy as np\n",
    "import pandas as pd"
   ]
  },
  {
   "cell_type": "code",
   "execution_count": 3,
   "id": "55063777",
   "metadata": {},
   "outputs": [],
   "source": [
    "df = pd.read_csv(\"ham veri/01.csv\")"
   ]
  },
  {
   "cell_type": "code",
   "execution_count": 4,
   "id": "b8cf7d51",
   "metadata": {},
   "outputs": [
    {
     "name": "stdout",
     "output_type": "stream",
     "text": [
      "<class 'pandas.core.frame.DataFrame'>\n",
      "RangeIndex: 1416 entries, 0 to 1415\n",
      "Data columns (total 14 columns):\n",
      " #   Column               Non-Null Count  Dtype \n",
      "---  ------               --------------  ----- \n",
      " 0   img-link href        1416 non-null   object\n",
      " 1   photo-count          1416 non-null   int64 \n",
      " 2   list-view-price      1416 non-null   object\n",
      " 3   list-view-date       1416 non-null   object\n",
      " 4   left                 1416 non-null   object\n",
      " 5   celly                1416 non-null   object\n",
      " 6   celly 2              1416 non-null   object\n",
      " 7   celly 3              1416 non-null   object\n",
      " 8   celly 4              1247 non-null   object\n",
      " 9   list-view-location   1416 non-null   object\n",
      " 10  img-wrp href         642 non-null    object\n",
      " 11  he-lazy-image src    1321 non-null   object\n",
      " 12  he-lazy-image src 2  563 non-null    object\n",
      " 13  list-view-header     1412 non-null   object\n",
      "dtypes: int64(1), object(13)\n",
      "memory usage: 155.0+ KB\n"
     ]
    }
   ],
   "source": [
    "df.info()"
   ]
  },
  {
   "cell_type": "code",
   "execution_count": 5,
   "id": "2a8e9591",
   "metadata": {},
   "outputs": [
    {
     "data": {
      "text/plain": [
       "img-link href            0\n",
       "photo-count              0\n",
       "list-view-price          0\n",
       "list-view-date           0\n",
       "left                     0\n",
       "celly                    0\n",
       "celly 2                  0\n",
       "celly 3                  0\n",
       "celly 4                169\n",
       "list-view-location       0\n",
       "img-wrp href           774\n",
       "he-lazy-image src       95\n",
       "he-lazy-image src 2    853\n",
       "list-view-header         4\n",
       "dtype: int64"
      ]
     },
     "execution_count": 5,
     "metadata": {},
     "output_type": "execute_result"
    }
   ],
   "source": [
    "df.isnull().sum()"
   ]
  },
  {
   "cell_type": "code",
   "execution_count": 6,
   "id": "52b4089f",
   "metadata": {},
   "outputs": [],
   "source": [
    "files = os.listdir(\"ham veri\")\n",
    "df = pd.concat([pd.read_csv(f\"ham veri/{file}\") for file in files], ignore_index=True)"
   ]
  },
  {
   "cell_type": "code",
   "execution_count": 7,
   "id": "9ecd82dd",
   "metadata": {},
   "outputs": [
    {
     "data": {
      "text/html": [
       "<div>\n",
       "<style scoped>\n",
       "    .dataframe tbody tr th:only-of-type {\n",
       "        vertical-align: middle;\n",
       "    }\n",
       "\n",
       "    .dataframe tbody tr th {\n",
       "        vertical-align: top;\n",
       "    }\n",
       "\n",
       "    .dataframe thead th {\n",
       "        text-align: right;\n",
       "    }\n",
       "</style>\n",
       "<table border=\"1\" class=\"dataframe\">\n",
       "  <thead>\n",
       "    <tr style=\"text-align: right;\">\n",
       "      <th></th>\n",
       "      <th>img-link href</th>\n",
       "      <th>photo-count</th>\n",
       "      <th>list-view-price</th>\n",
       "      <th>list-view-date</th>\n",
       "      <th>left</th>\n",
       "      <th>celly</th>\n",
       "      <th>celly 2</th>\n",
       "      <th>celly 3</th>\n",
       "      <th>celly 4</th>\n",
       "      <th>list-view-location</th>\n",
       "      <th>img-wrp href</th>\n",
       "      <th>he-lazy-image src</th>\n",
       "      <th>he-lazy-image src 2</th>\n",
       "      <th>list-view-header</th>\n",
       "      <th>branded__text</th>\n",
       "      <th>branded__text 2</th>\n",
       "      <th>img-wrp href 2</th>\n",
       "      <th>he-lazy-image src 3</th>\n",
       "    </tr>\n",
       "  </thead>\n",
       "  <tbody>\n",
       "    <tr>\n",
       "      <th>2642</th>\n",
       "      <td>https://www.hepsiemlak.com/izmir-bergama-atatu...</td>\n",
       "      <td>4.0</td>\n",
       "      <td>12.000</td>\n",
       "      <td>01-04-2024</td>\n",
       "      <td>Kiralık Daire</td>\n",
       "      <td>1 +\\n                        1</td>\n",
       "      <td>65 m²</td>\n",
       "      <td>Sıfır Bina</td>\n",
       "      <td>Ara Kat</td>\n",
       "      <td>Bergama, Atatürk Mahallesi</td>\n",
       "      <td>https://www.hepsiemlak.com/emlak-ofisi/binax-a...</td>\n",
       "      <td>https://hecdnnw.hemlak.com/mncropresize/91/68/...</td>\n",
       "      <td>NaN</td>\n",
       "      <td>Yığma Tepe Mevkisinde 1+1 Kiralık Daire</td>\n",
       "      <td>NaN</td>\n",
       "      <td>NaN</td>\n",
       "      <td>NaN</td>\n",
       "      <td>NaN</td>\n",
       "    </tr>\n",
       "  </tbody>\n",
       "</table>\n",
       "</div>"
      ],
      "text/plain": [
       "                                          img-link href  photo-count  \\\n",
       "2642  https://www.hepsiemlak.com/izmir-bergama-atatu...          4.0   \n",
       "\n",
       "     list-view-price list-view-date           left  \\\n",
       "2642          12.000     01-04-2024  Kiralık Daire   \n",
       "\n",
       "                               celly celly 2     celly 3  celly 4  \\\n",
       "2642  1 +\\n                        1   65 m²  Sıfır Bina  Ara Kat   \n",
       "\n",
       "              list-view-location  \\\n",
       "2642  Bergama, Atatürk Mahallesi   \n",
       "\n",
       "                                           img-wrp href  \\\n",
       "2642  https://www.hepsiemlak.com/emlak-ofisi/binax-a...   \n",
       "\n",
       "                                      he-lazy-image src he-lazy-image src 2  \\\n",
       "2642  https://hecdnnw.hemlak.com/mncropresize/91/68/...                 NaN   \n",
       "\n",
       "                             list-view-header branded__text branded__text 2  \\\n",
       "2642  Yığma Tepe Mevkisinde 1+1 Kiralık Daire           NaN             NaN   \n",
       "\n",
       "     img-wrp href 2 he-lazy-image src 3  \n",
       "2642            NaN                 NaN  "
      ]
     },
     "execution_count": 7,
     "metadata": {},
     "output_type": "execute_result"
    }
   ],
   "source": [
    "df.sample()"
   ]
  },
  {
   "cell_type": "code",
   "execution_count": 8,
   "id": "377f55cc",
   "metadata": {},
   "outputs": [
    {
     "data": {
      "text/html": [
       "<div>\n",
       "<style scoped>\n",
       "    .dataframe tbody tr th:only-of-type {\n",
       "        vertical-align: middle;\n",
       "    }\n",
       "\n",
       "    .dataframe tbody tr th {\n",
       "        vertical-align: top;\n",
       "    }\n",
       "\n",
       "    .dataframe thead th {\n",
       "        text-align: right;\n",
       "    }\n",
       "</style>\n",
       "<table border=\"1\" class=\"dataframe\">\n",
       "  <thead>\n",
       "    <tr style=\"text-align: right;\">\n",
       "      <th></th>\n",
       "      <th>img-link href</th>\n",
       "      <th>photo-count</th>\n",
       "      <th>list-view-price</th>\n",
       "      <th>list-view-date</th>\n",
       "      <th>left</th>\n",
       "      <th>celly</th>\n",
       "      <th>celly 2</th>\n",
       "      <th>celly 3</th>\n",
       "      <th>celly 4</th>\n",
       "      <th>list-view-location</th>\n",
       "      <th>img-wrp href</th>\n",
       "      <th>he-lazy-image src</th>\n",
       "      <th>he-lazy-image src 2</th>\n",
       "      <th>list-view-header</th>\n",
       "      <th>branded__text</th>\n",
       "      <th>branded__text 2</th>\n",
       "      <th>img-wrp href 2</th>\n",
       "      <th>he-lazy-image src 3</th>\n",
       "    </tr>\n",
       "  </thead>\n",
       "  <tbody>\n",
       "    <tr>\n",
       "      <th>0</th>\n",
       "      <td>https://www.hepsiemlak.com/izmir-konak-kilic-r...</td>\n",
       "      <td>17.0</td>\n",
       "      <td>12.000</td>\n",
       "      <td>15-04-2024</td>\n",
       "      <td>Kiralık Daire</td>\n",
       "      <td>1 +\\n                        1</td>\n",
       "      <td>55 m²</td>\n",
       "      <td>25\\n                      Yaşında</td>\n",
       "      <td>Yüksek Giriş</td>\n",
       "      <td>Konak,</td>\n",
       "      <td>https://www.hepsiemlak.com/emlak-ofisi/grup-ga...</td>\n",
       "      <td>https://www.hepsiemlak.com/img/loadings/noImag...</td>\n",
       "      <td>NaN</td>\n",
       "      <td>NaN</td>\n",
       "      <td>NaN</td>\n",
       "      <td>NaN</td>\n",
       "      <td>NaN</td>\n",
       "      <td>NaN</td>\n",
       "    </tr>\n",
       "    <tr>\n",
       "      <th>1</th>\n",
       "      <td>https://www.hepsiemlak.com/izmir-konak-akin-si...</td>\n",
       "      <td>35.0</td>\n",
       "      <td>16.000</td>\n",
       "      <td>09-04-2024</td>\n",
       "      <td>Kiralık Daire</td>\n",
       "      <td>3 +\\n                        1</td>\n",
       "      <td>150 m²</td>\n",
       "      <td>35\\n                      Yaşında</td>\n",
       "      <td>3. Kat</td>\n",
       "      <td>Konak,</td>\n",
       "      <td>https://www.hepsiemlak.com/emlak-ofisi/grup-ga...</td>\n",
       "      <td>https://www.hepsiemlak.com/img/loadings/noImag...</td>\n",
       "      <td>NaN</td>\n",
       "      <td>NaN</td>\n",
       "      <td>NaN</td>\n",
       "      <td>NaN</td>\n",
       "      <td>NaN</td>\n",
       "      <td>NaN</td>\n",
       "    </tr>\n",
       "    <tr>\n",
       "      <th>2</th>\n",
       "      <td>https://www.hepsiemlak.com/izmir-buca-adatepe-...</td>\n",
       "      <td>5.0</td>\n",
       "      <td>200</td>\n",
       "      <td>13-04-2024</td>\n",
       "      <td>Kiralık Daire</td>\n",
       "      <td>2 +\\n                        1</td>\n",
       "      <td>55 m²</td>\n",
       "      <td>2\\n                      Yaşında</td>\n",
       "      <td>Ara Kat</td>\n",
       "      <td>Buca,</td>\n",
       "      <td>https://www.hepsiemlak.com/emlak-ofisi/eleganc...</td>\n",
       "      <td>https://hecdnnw.hemlak.com/mncropresize/91/68/...</td>\n",
       "      <td>NaN</td>\n",
       "      <td>NaN</td>\n",
       "      <td>NaN</td>\n",
       "      <td>NaN</td>\n",
       "      <td>NaN</td>\n",
       "      <td>NaN</td>\n",
       "    </tr>\n",
       "    <tr>\n",
       "      <th>3</th>\n",
       "      <td>https://www.hepsiemlak.com/izmir-buca-yaylacik...</td>\n",
       "      <td>7.0</td>\n",
       "      <td>200</td>\n",
       "      <td>13-04-2024</td>\n",
       "      <td>Kiralık Daire</td>\n",
       "      <td>2 +\\n                        1</td>\n",
       "      <td>60 m²</td>\n",
       "      <td>2\\n                      Yaşında</td>\n",
       "      <td>3. Kat</td>\n",
       "      <td>Buca,</td>\n",
       "      <td>https://www.hepsiemlak.com/emlak-ofisi/eleganc...</td>\n",
       "      <td>https://hecdn01.hemlak.com/mncropresize/280/21...</td>\n",
       "      <td>https://hecdnnw.hemlak.com/mncropresize/91/68/...</td>\n",
       "      <td>NaN</td>\n",
       "      <td>NaN</td>\n",
       "      <td>NaN</td>\n",
       "      <td>NaN</td>\n",
       "      <td>NaN</td>\n",
       "    </tr>\n",
       "    <tr>\n",
       "      <th>4</th>\n",
       "      <td>https://www.hepsiemlak.com/izmir-karsiyaka-bah...</td>\n",
       "      <td>25.0</td>\n",
       "      <td>18.000</td>\n",
       "      <td>15-04-2024</td>\n",
       "      <td>Kiralık Daire</td>\n",
       "      <td>3 +\\n                        1</td>\n",
       "      <td>160 m²</td>\n",
       "      <td>27\\n                      Yaşında</td>\n",
       "      <td>3. Kat</td>\n",
       "      <td>Karşıyaka, Bahçelievler Mahallesi</td>\n",
       "      <td>NaN</td>\n",
       "      <td>https://hecdn01.hemlak.com/mncropresize/182/13...</td>\n",
       "      <td>NaN</td>\n",
       "      <td>Karşıyaka Kiralık 2 Balkonlu Naldöken Metro Sa...</td>\n",
       "      <td>NaN</td>\n",
       "      <td>NaN</td>\n",
       "      <td>NaN</td>\n",
       "      <td>NaN</td>\n",
       "    </tr>\n",
       "  </tbody>\n",
       "</table>\n",
       "</div>"
      ],
      "text/plain": [
       "                                       img-link href  photo-count  \\\n",
       "0  https://www.hepsiemlak.com/izmir-konak-kilic-r...         17.0   \n",
       "1  https://www.hepsiemlak.com/izmir-konak-akin-si...         35.0   \n",
       "2  https://www.hepsiemlak.com/izmir-buca-adatepe-...          5.0   \n",
       "3  https://www.hepsiemlak.com/izmir-buca-yaylacik...          7.0   \n",
       "4  https://www.hepsiemlak.com/izmir-karsiyaka-bah...         25.0   \n",
       "\n",
       "  list-view-price list-view-date           left  \\\n",
       "0          12.000     15-04-2024  Kiralık Daire   \n",
       "1          16.000     09-04-2024  Kiralık Daire   \n",
       "2             200     13-04-2024  Kiralık Daire   \n",
       "3             200     13-04-2024  Kiralık Daire   \n",
       "4          18.000     15-04-2024  Kiralık Daire   \n",
       "\n",
       "                            celly celly 2                            celly 3  \\\n",
       "0  1 +\\n                        1   55 m²  25\\n                      Yaşında   \n",
       "1  3 +\\n                        1  150 m²  35\\n                      Yaşında   \n",
       "2  2 +\\n                        1   55 m²   2\\n                      Yaşında   \n",
       "3  2 +\\n                        1   60 m²   2\\n                      Yaşında   \n",
       "4  3 +\\n                        1  160 m²  27\\n                      Yaşında   \n",
       "\n",
       "        celly 4                 list-view-location  \\\n",
       "0  Yüksek Giriş                             Konak,   \n",
       "1        3. Kat                             Konak,   \n",
       "2       Ara Kat                              Buca,   \n",
       "3        3. Kat                              Buca,   \n",
       "4        3. Kat  Karşıyaka, Bahçelievler Mahallesi   \n",
       "\n",
       "                                        img-wrp href  \\\n",
       "0  https://www.hepsiemlak.com/emlak-ofisi/grup-ga...   \n",
       "1  https://www.hepsiemlak.com/emlak-ofisi/grup-ga...   \n",
       "2  https://www.hepsiemlak.com/emlak-ofisi/eleganc...   \n",
       "3  https://www.hepsiemlak.com/emlak-ofisi/eleganc...   \n",
       "4                                                NaN   \n",
       "\n",
       "                                   he-lazy-image src  \\\n",
       "0  https://www.hepsiemlak.com/img/loadings/noImag...   \n",
       "1  https://www.hepsiemlak.com/img/loadings/noImag...   \n",
       "2  https://hecdnnw.hemlak.com/mncropresize/91/68/...   \n",
       "3  https://hecdn01.hemlak.com/mncropresize/280/21...   \n",
       "4  https://hecdn01.hemlak.com/mncropresize/182/13...   \n",
       "\n",
       "                                 he-lazy-image src 2  \\\n",
       "0                                                NaN   \n",
       "1                                                NaN   \n",
       "2                                                NaN   \n",
       "3  https://hecdnnw.hemlak.com/mncropresize/91/68/...   \n",
       "4                                                NaN   \n",
       "\n",
       "                                    list-view-header branded__text  \\\n",
       "0                                                NaN           NaN   \n",
       "1                                                NaN           NaN   \n",
       "2                                                NaN           NaN   \n",
       "3                                                NaN           NaN   \n",
       "4  Karşıyaka Kiralık 2 Balkonlu Naldöken Metro Sa...           NaN   \n",
       "\n",
       "  branded__text 2 img-wrp href 2 he-lazy-image src 3  \n",
       "0             NaN            NaN                 NaN  \n",
       "1             NaN            NaN                 NaN  \n",
       "2             NaN            NaN                 NaN  \n",
       "3             NaN            NaN                 NaN  \n",
       "4             NaN            NaN                 NaN  "
      ]
     },
     "execution_count": 8,
     "metadata": {},
     "output_type": "execute_result"
    }
   ],
   "source": [
    "df.head()"
   ]
  },
  {
   "cell_type": "code",
   "execution_count": 9,
   "id": "982b1d75",
   "metadata": {},
   "outputs": [
    {
     "data": {
      "text/plain": [
       "Index(['img-link href', 'photo-count', 'list-view-price', 'list-view-date',\n",
       "       'left', 'celly', 'celly 2', 'celly 3', 'celly 4', 'list-view-location',\n",
       "       'img-wrp href', 'he-lazy-image src', 'he-lazy-image src 2',\n",
       "       'list-view-header', 'branded__text', 'branded__text 2',\n",
       "       'img-wrp href 2', 'he-lazy-image src 3'],\n",
       "      dtype='object')"
      ]
     },
     "execution_count": 9,
     "metadata": {},
     "output_type": "execute_result"
    }
   ],
   "source": [
    "df.columns"
   ]
  },
  {
   "cell_type": "code",
   "execution_count": 24,
   "id": "f7052e19",
   "metadata": {},
   "outputs": [
    {
     "ename": "KeyError",
     "evalue": "\"['list-view-headerimg-wrp href 2'] not found in axis\"",
     "output_type": "error",
     "traceback": [
      "\u001b[1;31m---------------------------------------------------------------------------\u001b[0m",
      "\u001b[1;31mKeyError\u001b[0m                                  Traceback (most recent call last)",
      "Cell \u001b[1;32mIn[24], line 1\u001b[0m\n\u001b[1;32m----> 1\u001b[0m df\u001b[38;5;241m.\u001b[39mdrop([\u001b[38;5;124m'\u001b[39m\u001b[38;5;124mphoto-count\u001b[39m\u001b[38;5;124m'\u001b[39m,\u001b[38;5;124m'\u001b[39m\u001b[38;5;124mlist-view-date\u001b[39m\u001b[38;5;124m'\u001b[39m, \u001b[38;5;124m'\u001b[39m\u001b[38;5;124mleft\u001b[39m\u001b[38;5;124m'\u001b[39m, \u001b[38;5;124m'\u001b[39m\u001b[38;5;124mimg-wrp href\u001b[39m\u001b[38;5;124m'\u001b[39m, \u001b[38;5;124m'\u001b[39m\u001b[38;5;124mhe-lazy-image src\u001b[39m\u001b[38;5;124m'\u001b[39m, \u001b[38;5;124m'\u001b[39m\u001b[38;5;124mhe-lazy-image src 2\u001b[39m\u001b[38;5;124m'\u001b[39m,\n\u001b[0;32m      2\u001b[0m        \u001b[38;5;124m'\u001b[39m\u001b[38;5;124mbranded__text\u001b[39m\u001b[38;5;124m'\u001b[39m, \u001b[38;5;124m'\u001b[39m\u001b[38;5;124mbranded__text 2\u001b[39m\u001b[38;5;124m'\u001b[39m,\u001b[38;5;124m\"\u001b[39m\u001b[38;5;124mlist-view-location\u001b[39m\u001b[38;5;124m\"\u001b[39m, \u001b[38;5;124m\"\u001b[39m\u001b[38;5;124mlist-view-header\u001b[39m\u001b[38;5;124m\"\u001b[39m\n\u001b[0;32m      3\u001b[0m        \u001b[38;5;124m'\u001b[39m\u001b[38;5;124mimg-wrp href 2\u001b[39m\u001b[38;5;124m'\u001b[39m, \u001b[38;5;124m'\u001b[39m\u001b[38;5;124mhe-lazy-image src 3\u001b[39m\u001b[38;5;124m'\u001b[39m], axis\u001b[38;5;241m=\u001b[39m\u001b[38;5;241m1\u001b[39m, inplace\u001b[38;5;241m=\u001b[39m\u001b[38;5;28;01mTrue\u001b[39;00m)\n",
      "File \u001b[1;32m~\\AppData\\Roaming\\Python\\Python311\\site-packages\\pandas\\core\\frame.py:5588\u001b[0m, in \u001b[0;36mDataFrame.drop\u001b[1;34m(self, labels, axis, index, columns, level, inplace, errors)\u001b[0m\n\u001b[0;32m   5440\u001b[0m \u001b[38;5;28;01mdef\u001b[39;00m \u001b[38;5;21mdrop\u001b[39m(\n\u001b[0;32m   5441\u001b[0m     \u001b[38;5;28mself\u001b[39m,\n\u001b[0;32m   5442\u001b[0m     labels: IndexLabel \u001b[38;5;241m|\u001b[39m \u001b[38;5;28;01mNone\u001b[39;00m \u001b[38;5;241m=\u001b[39m \u001b[38;5;28;01mNone\u001b[39;00m,\n\u001b[1;32m   (...)\u001b[0m\n\u001b[0;32m   5449\u001b[0m     errors: IgnoreRaise \u001b[38;5;241m=\u001b[39m \u001b[38;5;124m\"\u001b[39m\u001b[38;5;124mraise\u001b[39m\u001b[38;5;124m\"\u001b[39m,\n\u001b[0;32m   5450\u001b[0m ) \u001b[38;5;241m-\u001b[39m\u001b[38;5;241m>\u001b[39m DataFrame \u001b[38;5;241m|\u001b[39m \u001b[38;5;28;01mNone\u001b[39;00m:\n\u001b[0;32m   5451\u001b[0m \u001b[38;5;250m    \u001b[39m\u001b[38;5;124;03m\"\"\"\u001b[39;00m\n\u001b[0;32m   5452\u001b[0m \u001b[38;5;124;03m    Drop specified labels from rows or columns.\u001b[39;00m\n\u001b[0;32m   5453\u001b[0m \n\u001b[1;32m   (...)\u001b[0m\n\u001b[0;32m   5586\u001b[0m \u001b[38;5;124;03m            weight  1.0     0.8\u001b[39;00m\n\u001b[0;32m   5587\u001b[0m \u001b[38;5;124;03m    \"\"\"\u001b[39;00m\n\u001b[1;32m-> 5588\u001b[0m     \u001b[38;5;28;01mreturn\u001b[39;00m \u001b[38;5;28msuper\u001b[39m()\u001b[38;5;241m.\u001b[39mdrop(\n\u001b[0;32m   5589\u001b[0m         labels\u001b[38;5;241m=\u001b[39mlabels,\n\u001b[0;32m   5590\u001b[0m         axis\u001b[38;5;241m=\u001b[39maxis,\n\u001b[0;32m   5591\u001b[0m         index\u001b[38;5;241m=\u001b[39mindex,\n\u001b[0;32m   5592\u001b[0m         columns\u001b[38;5;241m=\u001b[39mcolumns,\n\u001b[0;32m   5593\u001b[0m         level\u001b[38;5;241m=\u001b[39mlevel,\n\u001b[0;32m   5594\u001b[0m         inplace\u001b[38;5;241m=\u001b[39minplace,\n\u001b[0;32m   5595\u001b[0m         errors\u001b[38;5;241m=\u001b[39merrors,\n\u001b[0;32m   5596\u001b[0m     )\n",
      "File \u001b[1;32m~\\AppData\\Roaming\\Python\\Python311\\site-packages\\pandas\\core\\generic.py:4807\u001b[0m, in \u001b[0;36mNDFrame.drop\u001b[1;34m(self, labels, axis, index, columns, level, inplace, errors)\u001b[0m\n\u001b[0;32m   4805\u001b[0m \u001b[38;5;28;01mfor\u001b[39;00m axis, labels \u001b[38;5;129;01min\u001b[39;00m axes\u001b[38;5;241m.\u001b[39mitems():\n\u001b[0;32m   4806\u001b[0m     \u001b[38;5;28;01mif\u001b[39;00m labels \u001b[38;5;129;01mis\u001b[39;00m \u001b[38;5;129;01mnot\u001b[39;00m \u001b[38;5;28;01mNone\u001b[39;00m:\n\u001b[1;32m-> 4807\u001b[0m         obj \u001b[38;5;241m=\u001b[39m obj\u001b[38;5;241m.\u001b[39m_drop_axis(labels, axis, level\u001b[38;5;241m=\u001b[39mlevel, errors\u001b[38;5;241m=\u001b[39merrors)\n\u001b[0;32m   4809\u001b[0m \u001b[38;5;28;01mif\u001b[39;00m inplace:\n\u001b[0;32m   4810\u001b[0m     \u001b[38;5;28mself\u001b[39m\u001b[38;5;241m.\u001b[39m_update_inplace(obj)\n",
      "File \u001b[1;32m~\\AppData\\Roaming\\Python\\Python311\\site-packages\\pandas\\core\\generic.py:4849\u001b[0m, in \u001b[0;36mNDFrame._drop_axis\u001b[1;34m(self, labels, axis, level, errors, only_slice)\u001b[0m\n\u001b[0;32m   4847\u001b[0m         new_axis \u001b[38;5;241m=\u001b[39m axis\u001b[38;5;241m.\u001b[39mdrop(labels, level\u001b[38;5;241m=\u001b[39mlevel, errors\u001b[38;5;241m=\u001b[39merrors)\n\u001b[0;32m   4848\u001b[0m     \u001b[38;5;28;01melse\u001b[39;00m:\n\u001b[1;32m-> 4849\u001b[0m         new_axis \u001b[38;5;241m=\u001b[39m axis\u001b[38;5;241m.\u001b[39mdrop(labels, errors\u001b[38;5;241m=\u001b[39merrors)\n\u001b[0;32m   4850\u001b[0m     indexer \u001b[38;5;241m=\u001b[39m axis\u001b[38;5;241m.\u001b[39mget_indexer(new_axis)\n\u001b[0;32m   4852\u001b[0m \u001b[38;5;66;03m# Case for non-unique axis\u001b[39;00m\n\u001b[0;32m   4853\u001b[0m \u001b[38;5;28;01melse\u001b[39;00m:\n",
      "File \u001b[1;32m~\\AppData\\Roaming\\Python\\Python311\\site-packages\\pandas\\core\\indexes\\base.py:7136\u001b[0m, in \u001b[0;36mIndex.drop\u001b[1;34m(self, labels, errors)\u001b[0m\n\u001b[0;32m   7134\u001b[0m \u001b[38;5;28;01mif\u001b[39;00m mask\u001b[38;5;241m.\u001b[39many():\n\u001b[0;32m   7135\u001b[0m     \u001b[38;5;28;01mif\u001b[39;00m errors \u001b[38;5;241m!=\u001b[39m \u001b[38;5;124m\"\u001b[39m\u001b[38;5;124mignore\u001b[39m\u001b[38;5;124m\"\u001b[39m:\n\u001b[1;32m-> 7136\u001b[0m         \u001b[38;5;28;01mraise\u001b[39;00m \u001b[38;5;167;01mKeyError\u001b[39;00m(\u001b[38;5;124mf\u001b[39m\u001b[38;5;124m\"\u001b[39m\u001b[38;5;132;01m{\u001b[39;00mlabels[mask]\u001b[38;5;241m.\u001b[39mtolist()\u001b[38;5;132;01m}\u001b[39;00m\u001b[38;5;124m not found in axis\u001b[39m\u001b[38;5;124m\"\u001b[39m)\n\u001b[0;32m   7137\u001b[0m     indexer \u001b[38;5;241m=\u001b[39m indexer[\u001b[38;5;241m~\u001b[39mmask]\n\u001b[0;32m   7138\u001b[0m \u001b[38;5;28;01mreturn\u001b[39;00m \u001b[38;5;28mself\u001b[39m\u001b[38;5;241m.\u001b[39mdelete(indexer)\n",
      "\u001b[1;31mKeyError\u001b[0m: \"['list-view-headerimg-wrp href 2'] not found in axis\""
     ]
    }
   ],
   "source": [
    "df.drop(['photo-count','list-view-date', 'left', 'img-wrp href', 'he-lazy-image src', 'he-lazy-image src 2',\n",
    "       'branded__text', 'branded__text 2',\"list-view-location\", \"list-view-header\"\n",
    "       'img-wrp href 2', 'he-lazy-image src 3'], axis=1, inplace=True)"
   ]
  },
  {
   "cell_type": "code",
   "execution_count": 11,
   "id": "01305ffe",
   "metadata": {},
   "outputs": [
    {
     "name": "stdout",
     "output_type": "stream",
     "text": [
      "<class 'pandas.core.frame.DataFrame'>\n",
      "RangeIndex: 8136 entries, 0 to 8135\n",
      "Data columns (total 18 columns):\n",
      " #   Column               Non-Null Count  Dtype  \n",
      "---  ------               --------------  -----  \n",
      " 0   img-link href        8136 non-null   object \n",
      " 1   photo-count          8130 non-null   float64\n",
      " 2   list-view-price      8136 non-null   object \n",
      " 3   list-view-date       8136 non-null   object \n",
      " 4   left                 8114 non-null   object \n",
      " 5   celly                8136 non-null   object \n",
      " 6   celly 2              8136 non-null   object \n",
      " 7   celly 3              8136 non-null   object \n",
      " 8   celly 4              6858 non-null   object \n",
      " 9   list-view-location   8136 non-null   object \n",
      " 10  img-wrp href         4555 non-null   object \n",
      " 11  he-lazy-image src    7649 non-null   object \n",
      " 12  he-lazy-image src 2  4067 non-null   object \n",
      " 13  list-view-header     8129 non-null   object \n",
      " 14  branded__text        134 non-null    object \n",
      " 15  branded__text 2      134 non-null    object \n",
      " 16  img-wrp href 2       133 non-null    object \n",
      " 17  he-lazy-image src 3  116 non-null    object \n",
      "dtypes: float64(1), object(17)\n",
      "memory usage: 1.1+ MB\n"
     ]
    }
   ],
   "source": [
    "df.info()"
   ]
  },
  {
   "cell_type": "code",
   "execution_count": 12,
   "id": "8dde5681",
   "metadata": {},
   "outputs": [
    {
     "data": {
      "text/plain": [
       "array(['https://www.hepsiemlak.com/izmir-konak-kilic-reis-kiralik/daire/130125-62',\n",
       "       'https://www.hepsiemlak.com/izmir-konak-akin-simav-kiralik/daire/130125-91',\n",
       "       'https://www.hepsiemlak.com/izmir-buca-adatepe-kiralik/daire/138098-14',\n",
       "       ...,\n",
       "       'https://www.hepsiemlak.com/mugla-mentese-yenikoy-kiralik/daire/76834-2215',\n",
       "       'https://www.hepsiemlak.com/mugla-bodrum-turkbuku-kiralik/yazlik/5343-8596',\n",
       "       'https://www.hepsiemlak.com/mugla-ortaca-cayli-kiralik/daire/82884-1210'],\n",
       "      dtype=object)"
      ]
     },
     "execution_count": 12,
     "metadata": {},
     "output_type": "execute_result"
    }
   ],
   "source": [
    "df[\"img-link href\"].unique()"
   ]
  },
  {
   "cell_type": "code",
   "execution_count": 16,
   "id": "f0e4c4f6",
   "metadata": {},
   "outputs": [],
   "source": [
    "df[\"location\"] = df[\"img-link href\"].apply(lambda x: x.split(\"/\")[3])\n",
    "df[\"city\"] = df[\"location\"].str.split(\"-\").str[0]\n",
    "df[\"district\"] = df[\"location\"].str.split(\"-\").str[1]\n",
    "df[\"neighborhood\"] = df[\"location\"].str.split(\"-\").str[2:-1]\n",
    "df[\"neighborhood\"] = df[\"neighborhood\"].apply(lambda x: \"-\".join(x))"
   ]
  },
  {
   "cell_type": "code",
   "execution_count": 18,
   "id": "f31b6e3a",
   "metadata": {},
   "outputs": [
    {
     "data": {
      "text/plain": [
       "array(['kilic-reis', 'akin-simav', 'adatepe', 'yaylacik', 'bahcelievler',\n",
       "       'kultur', 'kazimdirik', 'yesil', 'atifbey', 'dokuz-eylul', 'irmak',\n",
       "       'cumhuriyet', 'gumuldur-inonu', 'alacati', 'esenyali', 'bostanli',\n",
       "       'colak-ibrahim-bey', 'cakmakli', 'yali', 'umut', 'manavkuyu',\n",
       "       'cakaltepe', 'ataturk', 'camlicay', 'kucuk-cigli', 'cetin-emec',\n",
       "       'zafer', 'sogukkuyu', 'zubeyde-hanim', 'emek', 'cakabey',\n",
       "       'germiyan', 'yenikent', 'yenigun', 'barbaros', 'gulyaka',\n",
       "       'yasar-kemal', 'general-kazim-ozalp', 'kozagac', 'goncalar',\n",
       "       'mansuroglu', 'denizli', 'bayrakli', 'egitim', 'evka-3',\n",
       "       'mithatpasa', 'fatih', 'altievler', 'limanreis', 'guvendik',\n",
       "       'yesiltepe', 'atasehir', 'cukuralti', 'esentepe', 'kemal-ataturk',\n",
       "       'mehmet-ali-akman', '29-ekim', 'onur', 'tuna', 'kabakum',\n",
       "       'fevzi-cakmak', 'gazikent', 'erzene', 'camli', 'poligon',\n",
       "       'goztepe', 'atilla', 'doganay', 'cuneytbey', 'kurucesme',\n",
       "       'altinyunus', 'balatcik', 'reisdere', 'bahriye-ucok', 'uckuyular',\n",
       "       'dedebasi', 'imbatli', 'firat', 'ismet-inonu', 'tahsin-yazici',\n",
       "       'ilica', 'vatan', 'camtepe', 'ornekkoy', 'semikler', 'alsancak',\n",
       "       'metin-oktay', 'atakent', 'doganlar', 'donanmaci', 'murat-reis',\n",
       "       'dalyan', 'nergiz', 'orhanli', 'kemal-reis', 'torasan', 'alaybey',\n",
       "       'kahramanlar', 'bahariye', 'altay', 'refet-bele',\n",
       "       'mustafa-kemal-ataturk', 'camlikule', 'koruturk', 'tepekule',\n",
       "       'inkilap', 'basin-sitesi', 'aksoy', 'turgut-reis', 'gulbahce',\n",
       "       'mimar-sinan', 'tersane', 'bahar', 'koyici', 'kazim-karabekir',\n",
       "       'arap-hasan', 'ciftlik', 'piri-reis', '16-eylul', 'sirinkent',\n",
       "       'mevlana', 'ismetpasa', 'maltepe', 'aydinlikevler', 'musalla',\n",
       "       'aydogdu', 'gumuldur-fevzi-cakmak', 'candarli', '30-agustos',\n",
       "       'kahramandere', 'hidirlik', 'halkapinar', 'fikri-altay',\n",
       "       'ali-fuat-cebesoy', 'yildiz', 'osmangazi', 'selvili', 'yesilova',\n",
       "       'salimbey', 'kemalpasa', 'narli', 'saip', '75-yil', 'yedi-eylul',\n",
       "       'inonu', 'yenikale', 'gorece-cumhuriyet', 'salihler',\n",
       "       'ahmet-efendi', 'rafet-pasa', 'muhittin-erener', 'gunesli',\n",
       "       'maliyeciler', 'kasimpasa', 'mavisehir', '9-eylul', 'gazipasa',\n",
       "       'sakarya', 'calikusu', 'ulucak-mustafa-kemal-ataturk', 'gazi',\n",
       "       'cicek', 'mordogan', 'bozyaka', 'baris', 'zafertepe',\n",
       "       'mustafa-kemal-pasa', 'altintas', 'golcukler', 'mermerli',\n",
       "       'celal-bayar', 'hurriyet', 'goksu', 'ovacik', 'efeler',\n",
       "       'zeytinalani', 'sevgi', 'anafartalar', 'ulamis', 'iskele',\n",
       "       'teleferik', 'yurdoglu', 'balikliova', 'gazi-mustafa-kemal',\n",
       "       'guzelyali', 'tepekoy', 'adalet', 'merkez', 'camikebir', 'selcuk',\n",
       "       'ozbek', 'villakent', 'ulus', 'r-sevket-ince', 'aydin', 'cay',\n",
       "       'sahilevleri', 'menderes', 'ilipinar', 'ugur-mumcu', 'kazim-dirik',\n",
       "       'kurtulus', 'fuat-edip-baksi', 'zeytinlik', '85-yil-cumhuriyet',\n",
       "       'turabiye', 'camlipinar', 'yesilbaglar', 'gumuldur-ataturk',\n",
       "       'cankaya', 'evka-4', 'yenibagarasi', 'yemislik', 'torbali',\n",
       "       'yelki', 'egekent', '2-inonu', 'uzundere', 'guven', 'buca-osb',\n",
       "       'kalabak', 'yenice', 'istiklal', 'yesil-pinar', 'mustafa-kemal',\n",
       "       'kosukavak', 'fahrettin-altay', 'yakakent', 'korfez', 'ayvatlar',\n",
       "       'ayrancilar', 'incirli-pinar', 'tulbentli', 'oglananasi-ataturk',\n",
       "       'camlik', 'sigacik', 'huzur', 'gunaltay', 'kizilay', 'evka-5',\n",
       "       'isa-bey', 'ardic', 'kavaklidere',\n",
       "       'harmandali-gazi-mustafa-kemal-ataturk', 'gurpinar', 'fevzipasa',\n",
       "       'ozdere-cumhuriyet', 'bademli', 'sifne', 'umurbey', 'devrim',\n",
       "       'reis', 'yelalti', 'bademler', 'catalkaya', 'postacilar',\n",
       "       'tinaztepe', 'karacaoglan', 'ildir', 'sasalli-merkez', 'laleli',\n",
       "       'ergene', 'evka-6', 'yahselli', 'boyalik', 'gunerli', 'dicle',\n",
       "       'salih-omurtak', 'esatpasa', 'guzeltepe', 'suleyman-demirel',\n",
       "       'haciveli', 'alpaslan', 'siteler', 'yamanlar', 'kuscular',\n",
       "       'gumuspala', 'yenikoy', 'yukarikizilca-merkez', 'dumlupinar',\n",
       "       '14-mayis', 'ufuk', 'demirkopru', 'turkcedit', 'vali-rahmi-bey',\n",
       "       'muammer-akar', 'm-fevzi-cakmak', 'dogancay', 'bengiler',\n",
       "       'gaziler', '4-eylul', 'peker', 'muratbey', 'yeni-mahalle', 'kuner',\n",
       "       'murathan', 'belen', 'gazi-osman-pasa', 'emrez', 'cennetoglu',\n",
       "       'akincilar', 'ulucak-cumhuriyet', 'esenlik', 'ahmet-taner-kislali',\n",
       "       'yigitler', 'payamli', 'armutlu-85-yil-cumhuriyet', 'sasal',\n",
       "       'ertugrul', 'sirinkapi', 'kozbeyli', 'bengisu',\n",
       "       'gumuldur-cumhuriyet', 'adnan-suvari', 'beyazevler', 'buca-koop',\n",
       "       'emmioglu', 'rustem', 'dagkizilca', 'ahmetbeyli', 'haci-isa',\n",
       "       'icmeler', 'tepecik', 'develi', 'birlik', 'kocatepe', 'dolaylar',\n",
       "       'yagcilar', 'oglananasi-cumhuriyet', 'turkmen', 'izkent',\n",
       "       'turkmenkoy', 'armutlu-hurriyet', 'adnan-menderes', 'duzce',\n",
       "       'akdeniz', 'pancar', 'yazibasi', 'cinarli', 'aziziye',\n",
       "       'org-nafiz-gurman', 'inciralti', 'orta', 'etiler', 'tuzcu',\n",
       "       'karanfil', 'cinar', 'celebi', 'sira', 'caldiran', 'gunluce',\n",
       "       'sehit-mehmet', 'bagcilar', 'mesrutiyet', 'universite', 'konak',\n",
       "       'maresal-fevzi-cakmak', 'karacaagac', 'degirmendere', 'doga',\n",
       "       'gungor', 'umit', 'aktepe', 'seyhan', 'yaylayurt', 'birgi',\n",
       "       'mersin-alani', 'ocakli', 'sekiz-eylul', 'evka-2', 'fahrettinpasa',\n",
       "       'karabaglar', 'sirintepe', 'golcuk', 'yeni', 'ataturk-osb',\n",
       "       'egemenlik', '2-kadriye', 'kazimpasa', 'ahihidir', 'muradiye',\n",
       "       '2-anafartalar', 'kuyualan', 'goktasli', 'dincer', 'resat-bey',\n",
       "       'guzelyurt', 'ulu-camii', 'acarlar', 'haci-ishak', 'pasa',\n",
       "       'uncubozkoy', 'eski-cami', 'kirveli', 'ergenekon', 'efendi',\n",
       "       'arda', 'albayrak', 'selvilitepe', 'hafsa-sultan', 'topcuasim',\n",
       "       'ragip-bey', 'mesir', 'kocacesme', 'medar', 'tunca', 'yoruk',\n",
       "       'karaali', '1-anafartalar', 'yarhasanlar', 'sehitler', 'subasi',\n",
       "       'tevfikiye', 'kethuda', 'istasyonalti', 'durasilli', 'utku',\n",
       "       'dere', 'seyit-ahmet', 'gokceahmet', 'ayni-ali', 'has-hoca',\n",
       "       'merkez-efendi', 'saripinar', 'cengiz-topel', 'kecili-koy',\n",
       "       'carsi', 'ege', 'istasyon', 'akmescit', 'dilsikar', 'gaybiefendi',\n",
       "       'yunusemre', 'meydan', 'fuatpasa', 'saray', 'parmakoren', 'akkent',\n",
       "       'dagcesme', 'alipasa', 'yildirim-beyazit', 'servi', 'balikli',\n",
       "       'mecidiye', 'omerbey', 'g-kemal', 'kemaloz', 'durak', 'unalan',\n",
       "       'hasan-karaagac', 'erenler', 'ali-ihsan-pasa',\n",
       "       'erkmen-fevzi-cakmak', 'kanlica', 'dortyol', 'sahipata',\n",
       "       'osman-gazi', 'asagi', 'aktas', 'sirinevler', 'veysel-karani',\n",
       "       'pinarli', 'dervis-pasa', 'esrefpasa', 'imaret', 'marulcu',\n",
       "       'karsiyaka', 'haci-musa', 'yunus-emre', 'nazmi-saatci', 'selcuklu',\n",
       "       'sazi', 'guzelcamli', 'isabeyli', 'akbuk', 'ikicesmelik', 'zeybek',\n",
       "       'karaova', 'guzelhisar', 'yavansu', 'gerenkova', 'cuma', 'girne',\n",
       "       'davutlar', 'ovaeymir', 'hasanefendi-ramazan-pasa', 'hisar',\n",
       "       'bayraklidede', 'kadinlar-denizi', 'sogucak', 'koprulu-veysipasa',\n",
       "       'sumer', 'altinkum', 'ata', 'zeytinkoy', 'yenicamii', 'kemer',\n",
       "       'hacifeyzullah', 'kadikalesi', 'uceylul', 'yilmazkoy', 'hamitabat',\n",
       "       'ortaklar', 'mesudiye', 'yedieylul', 'yamac', 'sevketiye',\n",
       "       'isikli', 'alacamescit', 'caferli', 'agacli', 'imamkoy', 'karacay',\n",
       "       'turan', 'sandikli', 'celtikci', 'yaylakoy', 'karakollar',\n",
       "       'mersindere', 'camiatik', 'degirmenonu', 'muratdede', 'topraklik',\n",
       "       'kuspinar', 'sirakapilar', 'akkonak', 'incilipinar', 'feslegen',\n",
       "       'karaman', 'gultepe', 'mehmetcik', 'selcuk-bey', 'karahasanli',\n",
       "       'saraylar', 'asmalievler', 'kinikli', 'kayalar', 'hacikaplanlar',\n",
       "       'bagbasi', 'kervansaray', 'atalar', 'gumuscay', '15-mayis',\n",
       "       'sevindik', 'bala', 'kizilcasogut', 'deliktas', 'gerzele',\n",
       "       'pelitlibag', 'mehmet-akif-ersoy', 'kocadere', 'servergazi',\n",
       "       'saruhan', 'hallaclar', 'altintop', 'sirinkoy', 'ilbade',\n",
       "       'yenisafak', 'zumrut', 'gokpinar', 'dokuzkavaklar', 'tekke',\n",
       "       'cankurtaran', 'bereketler', '1200-evler', 'kayihan', 'cakmak',\n",
       "       'garipkoy', 'yenisehir', 'gemispinari', 'karakurt', 'dirmil',\n",
       "       'inlice', 'eskicesme', 'muskebi', 'emirbeyazit', 'umurca',\n",
       "       'okcular', 'akyaka', 'gulluk', 'gundogan', 'kemaliye', 'bitez',\n",
       "       'karacali', 'golkoy', 'kucukbuk', 'cayli', 'gumusluk', 'kafaca',\n",
       "       'karaburun', 'gokova', 'yalikavak', 'gulpinar', 'dorttepe',\n",
       "       'yangi', 'sogutluyurt', 'armutalan', 'geris', 'ismet-pasa',\n",
       "       'ortakoy', 'cirkan', 'hamitkoy', 'gelisim', 'torba', 'turgutreis',\n",
       "       'beldibi', 'kumbahce', 'patlangic', 'bayir', 'akyarlar', 'oren',\n",
       "       'beyobasi', 'karamehmet', 'terzialiler', 'karagedik', 'akcaalan',\n",
       "       'bogazici', 'dogusbelen', 'yakakoy', 'turgut', 'dugerek',\n",
       "       'guvercinlik', 'turkbuku', 'orhaniye', 'tuzla', 'kizlan',\n",
       "       'koyunbaba', 'foca', 'karabag', 'emecik', 'yokusbasi', 'gumbet',\n",
       "       'derekoy', 'alparslan', 'akarca', 'kotekli', 'karaculha',\n",
       "       'toparlar', 'islamhaneleri', 'camkoy', 'babatasi', 'yesilyurt',\n",
       "       'akinci', 'cami', 'kesikkapi', 'becin', 'resadiye', 'gurece',\n",
       "       'pinar', 'pazaryeri', 'mumcular', 'menteseoglu', 'tepe', 'sogut',\n",
       "       'tasyaka', 'beskopru', 'oludeniz', 'gokce', 'ulucami', 'peksimet',\n",
       "       'gocek', 'bozalan', 'gunes', 'turkevleri', 'yahsi', 'serefler',\n",
       "       'datca', 'yaka', 'kayakoy', 'farilya', 'eksiliyurt', 'muslihittin',\n",
       "       'kargi', 'kapukargin', 'kizilagac', 'eskikoy', 'dalakli',\n",
       "       'pinarlibelen', 'haci-ilyas', 'kizilbel', 'sarigerme', 'koprubasi',\n",
       "       'portakallik', 'dikmekavak', 'yesilkoy', 'sariana', 'ugurlu',\n",
       "       'konacik', 'turunc', 'gulagzi', 'yaniklar', 'kazikli',\n",
       "       'turkkuyusu', 'fevziye', 'kemeralti', 'arikbasi', 'selimiye',\n",
       "       'kiyikislacik', 'cevat-sakir', 'haciabti', 'cildir', 'meselik',\n",
       "       'ekincik', 'hisaronu', 'akcaova', 'ahmet-cavus-hayitli',\n",
       "       'yerkesik', 'yayla', 'gokceovacik', 'cokertme', 'kizilyaka',\n",
       "       'karginkuru', 'catalarik', 'bezkese', 'hatipirimi', 'zaferler',\n",
       "       'karagozler', 'firuzpasa-gazipasa', 'ayazkiyi', 'esenkoy', 'seyh',\n",
       "       'karakoy', 'mergenli', 'dogan', 'kavakarasi', 'kizilkaya',\n",
       "       'kumkoy', 'yazi', 'hacirustem', 'yaras', 'tepearasi', 'sindi',\n",
       "       'kiran', 'koru', 'gerisburnu', 'citlik', 'golbasi', 'kiramettin',\n",
       "       'incirkoy', 'burgaz'], dtype=object)"
      ]
     },
     "execution_count": 18,
     "metadata": {},
     "output_type": "execute_result"
    }
   ],
   "source": [
    "df[\"neighborhood\"].unique()"
   ]
  },
  {
   "cell_type": "code",
   "execution_count": 19,
   "id": "898b4cbe",
   "metadata": {},
   "outputs": [],
   "source": [
    "df.drop([\"location\", \"img-link href\"], axis=1, inplace=True)"
   ]
  },
  {
   "cell_type": "code",
   "execution_count": 23,
   "id": "b563a673",
   "metadata": {},
   "outputs": [
    {
     "name": "stdout",
     "output_type": "stream",
     "text": [
      "<class 'pandas.core.frame.DataFrame'>\n",
      "RangeIndex: 8136 entries, 0 to 8135\n",
      "Data columns (total 20 columns):\n",
      " #   Column               Non-Null Count  Dtype  \n",
      "---  ------               --------------  -----  \n",
      " 0   photo-count          8130 non-null   float64\n",
      " 1   list-view-price      8136 non-null   object \n",
      " 2   list-view-date       8136 non-null   object \n",
      " 3   left                 8114 non-null   object \n",
      " 4   celly                8136 non-null   object \n",
      " 5   celly 2              8136 non-null   object \n",
      " 6   celly 3              8136 non-null   object \n",
      " 7   celly 4              6858 non-null   object \n",
      " 8   list-view-location   8136 non-null   object \n",
      " 9   img-wrp href         4555 non-null   object \n",
      " 10  he-lazy-image src    7649 non-null   object \n",
      " 11  he-lazy-image src 2  4067 non-null   object \n",
      " 12  list-view-header     8129 non-null   object \n",
      " 13  branded__text        134 non-null    object \n",
      " 14  branded__text 2      134 non-null    object \n",
      " 15  img-wrp href 2       133 non-null    object \n",
      " 16  he-lazy-image src 3  116 non-null    object \n",
      " 17  city                 8136 non-null   object \n",
      " 18  district             8136 non-null   object \n",
      " 19  neighborhood         8136 non-null   object \n",
      "dtypes: float64(1), object(19)\n",
      "memory usage: 1.2+ MB\n"
     ]
    }
   ],
   "source": [
    "df.info()"
   ]
  },
  {
   "cell_type": "code",
   "execution_count": 30,
   "id": "d5340c49",
   "metadata": {},
   "outputs": [
    {
     "data": {
      "text/html": [
       "<div>\n",
       "<style scoped>\n",
       "    .dataframe tbody tr th:only-of-type {\n",
       "        vertical-align: middle;\n",
       "    }\n",
       "\n",
       "    .dataframe tbody tr th {\n",
       "        vertical-align: top;\n",
       "    }\n",
       "\n",
       "    .dataframe thead th {\n",
       "        text-align: right;\n",
       "    }\n",
       "</style>\n",
       "<table border=\"1\" class=\"dataframe\">\n",
       "  <thead>\n",
       "    <tr style=\"text-align: right;\">\n",
       "      <th></th>\n",
       "      <th>list-view-price</th>\n",
       "      <th>celly</th>\n",
       "      <th>celly 2</th>\n",
       "      <th>celly 3</th>\n",
       "      <th>celly 4</th>\n",
       "      <th>city</th>\n",
       "      <th>district</th>\n",
       "      <th>neighborhood</th>\n",
       "    </tr>\n",
       "  </thead>\n",
       "  <tbody>\n",
       "    <tr>\n",
       "      <th>0</th>\n",
       "      <td>12.000</td>\n",
       "      <td>1 +\\n                        1</td>\n",
       "      <td>55 m²</td>\n",
       "      <td>25\\n                      Yaşında</td>\n",
       "      <td>Yüksek Giriş</td>\n",
       "      <td>izmir</td>\n",
       "      <td>konak</td>\n",
       "      <td>kilic-reis</td>\n",
       "    </tr>\n",
       "    <tr>\n",
       "      <th>1</th>\n",
       "      <td>16.000</td>\n",
       "      <td>3 +\\n                        1</td>\n",
       "      <td>150 m²</td>\n",
       "      <td>35\\n                      Yaşında</td>\n",
       "      <td>3. Kat</td>\n",
       "      <td>izmir</td>\n",
       "      <td>konak</td>\n",
       "      <td>akin-simav</td>\n",
       "    </tr>\n",
       "    <tr>\n",
       "      <th>2</th>\n",
       "      <td>200</td>\n",
       "      <td>2 +\\n                        1</td>\n",
       "      <td>55 m²</td>\n",
       "      <td>2\\n                      Yaşında</td>\n",
       "      <td>Ara Kat</td>\n",
       "      <td>izmir</td>\n",
       "      <td>buca</td>\n",
       "      <td>adatepe</td>\n",
       "    </tr>\n",
       "    <tr>\n",
       "      <th>3</th>\n",
       "      <td>200</td>\n",
       "      <td>2 +\\n                        1</td>\n",
       "      <td>60 m²</td>\n",
       "      <td>2\\n                      Yaşında</td>\n",
       "      <td>3. Kat</td>\n",
       "      <td>izmir</td>\n",
       "      <td>buca</td>\n",
       "      <td>yaylacik</td>\n",
       "    </tr>\n",
       "    <tr>\n",
       "      <th>4</th>\n",
       "      <td>18.000</td>\n",
       "      <td>3 +\\n                        1</td>\n",
       "      <td>160 m²</td>\n",
       "      <td>27\\n                      Yaşında</td>\n",
       "      <td>3. Kat</td>\n",
       "      <td>izmir</td>\n",
       "      <td>karsiyaka</td>\n",
       "      <td>bahcelievler</td>\n",
       "    </tr>\n",
       "  </tbody>\n",
       "</table>\n",
       "</div>"
      ],
      "text/plain": [
       "  list-view-price                           celly celly 2  \\\n",
       "0          12.000  1 +\\n                        1   55 m²   \n",
       "1          16.000  3 +\\n                        1  150 m²   \n",
       "2             200  2 +\\n                        1   55 m²   \n",
       "3             200  2 +\\n                        1   60 m²   \n",
       "4          18.000  3 +\\n                        1  160 m²   \n",
       "\n",
       "                             celly 3       celly 4   city   district  \\\n",
       "0  25\\n                      Yaşında  Yüksek Giriş  izmir      konak   \n",
       "1  35\\n                      Yaşında        3. Kat  izmir      konak   \n",
       "2   2\\n                      Yaşında       Ara Kat  izmir       buca   \n",
       "3   2\\n                      Yaşında        3. Kat  izmir       buca   \n",
       "4  27\\n                      Yaşında        3. Kat  izmir  karsiyaka   \n",
       "\n",
       "   neighborhood  \n",
       "0    kilic-reis  \n",
       "1    akin-simav  \n",
       "2       adatepe  \n",
       "3      yaylacik  \n",
       "4  bahcelievler  "
      ]
     },
     "execution_count": 30,
     "metadata": {},
     "output_type": "execute_result"
    }
   ],
   "source": [
    "df.head()"
   ]
  },
  {
   "cell_type": "code",
   "execution_count": 36,
   "id": "89f6853d",
   "metadata": {},
   "outputs": [
    {
     "name": "stdout",
     "output_type": "stream",
     "text": [
      "                city   district    neighborhood\n",
      "7308           mugla     ortaca        kemaliye\n",
      "5003         denizli  pamukkale          atalar\n",
      "7571           mugla   koycegiz     zeytinalani\n",
      "4058           aydin     efeler          efeler\n",
      "1178           izmir    balcova      cetin-emec\n",
      "6876           mugla     bodrum           bitez\n",
      "7776           mugla     bodrum       yalikavak\n",
      "1391           izmir       buca         gaziler\n",
      "812            izmir      konak     mimar-sinan\n",
      "4333           aydin      didim           akbuk\n",
      "4008  afyonkarahisar     merkez      cumhuriyet\n",
      "766            izmir  karsiyaka       donanmaci\n",
      "4553           aydin   kusadasi             ege\n",
      "7252           mugla      milas            oren\n",
      "835            izmir      cesme     ismet-inonu\n",
      "4121           aydin     efeler        ovaeymir\n",
      "6119           mugla    dalaman          merkez\n",
      "4132           aydin     efeler            cuma\n",
      "4963         denizli  pamukkale       zeytinkoy\n",
      "231            izmir  karsiyaka     fikri-altay\n",
      "306            izmir       urla         denizli\n",
      "1320           izmir  narlidere         camtepe\n",
      "6186           mugla     ortaca      dikmekavak\n",
      "3721          manisa  yunusemre       guzelyurt\n",
      "2184           izmir  karsiyaka        bostanli\n",
      "371            izmir  karsiyaka            yali\n",
      "1601           izmir      konak      kemal-reis\n",
      "2987           izmir       foca    yenibagarasi\n",
      "2476           izmir    balcova      cetin-emec\n",
      "7228           mugla     ortaca       karaburun\n",
      "5707           mugla     bodrum        gundogan\n",
      "1547           izmir  karsiyaka           aksoy\n",
      "7504           mugla   marmaris         icmeler\n",
      "5796           mugla      milas        bogazici\n",
      "3391           izmir      cesme         sakarya\n",
      "1807           izmir   bayrakli        yamanlar\n",
      "3611           izmir      cigli        yakakent\n",
      "6204           mugla    fethiye       pazaryeri\n",
      "2733           izmir   bayrakli      mansuroglu\n",
      "586            izmir  karsiyaka            yali\n",
      "2557           izmir   menderes  gumuldur-inonu\n",
      "2546           izmir      konak      mithatpasa\n",
      "3378           izmir       buca         kozagac\n",
      "1683           izmir      cesme         musalla\n",
      "3569           izmir      konak      halkapinar\n",
      "4055           aydin     efeler      guzelhisar\n",
      "1648           izmir      cesme        16-eylul\n",
      "100            izmir      cigli        atasehir\n",
      "6431           mugla     bodrum    bahcelievler\n",
      "5469         denizli  pamukkale       mehmetcik\n"
     ]
    }
   ],
   "source": [
    "print(df[[\"city\", \"district\", \"neighborhood\"]].sample(50))"
   ]
  },
  {
   "cell_type": "code",
   "execution_count": 37,
   "id": "c3de5407",
   "metadata": {},
   "outputs": [
    {
     "data": {
      "text/plain": [
       "Index(['list-view-price', 'celly', 'celly 2', 'celly 3', 'celly 4', 'city',\n",
       "       'district', 'neighborhood'],\n",
       "      dtype='object')"
      ]
     },
     "execution_count": 37,
     "metadata": {},
     "output_type": "execute_result"
    }
   ],
   "source": [
    "df.columns"
   ]
  },
  {
   "cell_type": "code",
   "execution_count": 38,
   "id": "2c7f233b",
   "metadata": {},
   "outputs": [
    {
     "data": {
      "text/plain": [
       "array(['1 +\\n                        1', '3 +\\n                        1',\n",
       "       '2 +\\n                        1', '4 +\\n                        1',\n",
       "       '4 +\\n                        2', '5 +\\n                        1',\n",
       "       '6 +\\n                        1', '7 +\\n                        1',\n",
       "       '21 +\\n                        1',\n",
       "       '6 +\\n                        2', '5 +\\n                        2',\n",
       "       'Stüdyo', '7 +\\n                        2',\n",
       "       '3 +\\n                        2', '2 +\\n                        0',\n",
       "       '6 +\\n                        0', '9 +\\n                        4',\n",
       "       '9 +\\n                        1', '3 +\\n                        0',\n",
       "       '1 +\\n                        15',\n",
       "       '2 +\\n                        2', '8 +\\n                        1',\n",
       "       '41 +\\n                        4',\n",
       "       '4 +\\n                        0',\n",
       "       '1 +\\n                        25',\n",
       "       '4 +\\n                        4', '3 +\\n                        4',\n",
       "       '1 +\\n                        2', '3 +\\n                        3',\n",
       "       '31 +\\n                        1',\n",
       "       '4 +\\n                        3', '9 +\\n                        5',\n",
       "       '8 +\\n                        4', '4 +\\n                        5',\n",
       "       '9 +\\n                        3',\n",
       "       '25 +\\n                        5',\n",
       "       '8 +\\n                        0', '9 +\\n                        9',\n",
       "       '14 +\\n                        6',\n",
       "       '10 +\\n                        1'], dtype=object)"
      ]
     },
     "execution_count": 38,
     "metadata": {},
     "output_type": "execute_result"
    }
   ],
   "source": [
    "df[\"celly\"].unique()"
   ]
  },
  {
   "cell_type": "code",
   "execution_count": 41,
   "id": "3a5c0e87",
   "metadata": {},
   "outputs": [],
   "source": [
    "df[\"celly\"] = df[\"celly\"].apply(lambda x: x.replace(\"Stüdyo\", \"1 + 0\"))\n",
    "df[\"celly\"] = df[\"celly\"].apply(lambda x: x.replace(\"\\n\", \"\"))\n",
    "df[\"room\"] = df[\"celly\"].apply(lambda x: x.split(\"+\")[0]).astype(int)\n",
    "df[\"living_room\"] = df[\"celly\"].apply(lambda x: x.split(\"+\")[1]).astype(int)"
   ]
  },
  {
   "cell_type": "code",
   "execution_count": 42,
   "id": "b0346725",
   "metadata": {},
   "outputs": [
    {
     "name": "stdout",
     "output_type": "stream",
     "text": [
      "[ 1  3  2  4  5  6  7 21  9  8 41 31 25 14 10]\n",
      "[ 1  2  0  4 15 25  3  5  9  6]\n"
     ]
    }
   ],
   "source": [
    "print(df[\"room\"].unique())\n",
    "print(df[\"living_room\"].unique())"
   ]
  },
  {
   "cell_type": "code",
   "execution_count": 44,
   "id": "62c3e928",
   "metadata": {},
   "outputs": [],
   "source": [
    "df.drop(\"celly\", axis=1, inplace=True)"
   ]
  },
  {
   "cell_type": "code",
   "execution_count": 45,
   "id": "b60ef38e",
   "metadata": {},
   "outputs": [
    {
     "name": "stdout",
     "output_type": "stream",
     "text": [
      "<class 'pandas.core.frame.DataFrame'>\n",
      "RangeIndex: 8136 entries, 0 to 8135\n",
      "Data columns (total 9 columns):\n",
      " #   Column           Non-Null Count  Dtype \n",
      "---  ------           --------------  ----- \n",
      " 0   list-view-price  8136 non-null   object\n",
      " 1   celly 2          8136 non-null   object\n",
      " 2   celly 3          8136 non-null   object\n",
      " 3   celly 4          6858 non-null   object\n",
      " 4   city             8136 non-null   object\n",
      " 5   district         8136 non-null   object\n",
      " 6   neighborhood     8136 non-null   object\n",
      " 7   room             8136 non-null   int32 \n",
      " 8   living_room      8136 non-null   int32 \n",
      "dtypes: int32(2), object(7)\n",
      "memory usage: 508.6+ KB\n"
     ]
    }
   ],
   "source": [
    "df.info()"
   ]
  },
  {
   "cell_type": "code",
   "execution_count": 46,
   "id": "10146225",
   "metadata": {},
   "outputs": [
    {
     "data": {
      "text/plain": [
       "array(['55 m²', '150 m²', '60 m²', '160 m²', '135 m²', '67 m²', '140 m²',\n",
       "       '170 m²', '130 m²', '230 m²', '220 m²', '210 m²', '89 m²',\n",
       "       '120 m²', '200 m²', '355 m²', '75 m²', '110 m²', '100 m²', '65 m²',\n",
       "       '145 m²', '115 m²', '1.000 m²', '250 m²', '105 m²', '50 m²',\n",
       "       '87 m²', '90 m²', '85 m²', '155 m²', '275 m²', '240 m²', '95 m²',\n",
       "       '174 m²', '80 m²', '125 m²', '180 m²', '165 m²', '350 m²', '97 m²',\n",
       "       '45 m²', '300 m²', '84 m²', '42 m²', '98 m²', '86 m²', '500 m²',\n",
       "       '70 m²', '51 m²', '73 m²', '132 m²', '325 m²', '141 m²', '450 m²',\n",
       "       '600 m²', '47 m²', '72 m²', '71 m²', '3.000 m²', '175 m²',\n",
       "       '320 m²', '280 m²', '156 m²', '190 m²', '78 m²', '162 m²',\n",
       "       '185 m²', '18 m²', '330 m²', '151 m²', '56 m²', '136 m²', '131 m²',\n",
       "       '48 m²', '580 m²', '119 m²', '147 m²', '77 m²', '245 m²', '35 m²',\n",
       "       '375 m²', '146 m²', '161 m²', '163 m²', '149 m²', '206 m²',\n",
       "       '138 m²', '93 m²', '63 m²', '41 m²', '183 m²', '96 m²', '108 m²',\n",
       "       '76 m²', '475 m²', '359 m²', '124 m²', '91 m²', '194 m²', '43 m²',\n",
       "       '4.500 m²', '68 m²', '205 m²', '20 m²', '103 m²', '53 m²',\n",
       "       '270 m²', '58 m²', '302 m²', '505 m²', '800 m²', '168 m²',\n",
       "       '154 m²', '368 m²', '178 m²', '40 m²', '750 m²', '92 m²', '181 m²',\n",
       "       '400 m²', '30 m²', '260 m²', '460 m²', '390 m²', '64 m²', '360 m²',\n",
       "       '340 m²', '550 m²', '38 m²', '121 m²', '4.000 m²', '295 m²',\n",
       "       '112 m²', '137 m²', '22 m²', '128 m²', '3.200 m²', '440 m²',\n",
       "       '122 m²', '370 m²', '380 m²', '204 m²', '148 m²', '142 m²',\n",
       "       '520 m²', '166 m²', '870 m²', '143 m²', '57 m²', '286 m²', '81 m²',\n",
       "       '116 m²', '209 m²', '59 m²', '106 m²', '74 m²', '1.301 m²',\n",
       "       '52 m²', '167 m²', '217 m²', '25 m²', '290 m²', '196 m²', '184 m²',\n",
       "       '159 m²', '195 m²', '640 m²', '285 m²', '235 m²', '337 m²',\n",
       "       '211 m²', '134 m²', '832 m²', '152 m²', '88 m²', '213 m²',\n",
       "       '126 m²', '255 m²', '199 m²', '127 m²', '11 m²', '66 m²', '399 m²',\n",
       "       '187 m²', '341 m²', '745 m²', '118 m²', '144 m²', '15 m²',\n",
       "       '535 m²', '5.500 m²', '114 m²', '208 m²', '94 m²', '46 m²',\n",
       "       '173 m²', '900 m²', '225 m²', '402 m²', '111 m²', '193 m²',\n",
       "       '1.100 m²', '212 m²', '102 m²', '177 m²', '101 m²', '164 m²',\n",
       "       '158 m²', '62 m²', '172 m²', '9.000 m²', '21 m²', '117 m²',\n",
       "       '82 m²', '49 m²', '176 m²', '182 m²', '981 m²', '256 m²', '32 m²',\n",
       "       '3.510 m²', '215 m²', '1.057 m²', '171 m²', '79 m²', '169 m²',\n",
       "       '28 m²', '104 m²', '201 m²', '310 m²', '1.150 m²', '2.000 m²',\n",
       "       '228 m²', '700 m²', '349 m²', '203 m²', '510 m²', '31 m²', '33 m²',\n",
       "       '950 m²', '650 m²', '252 m²', '493 m²', '265 m²', '1.400 m²',\n",
       "       '5 m²', '113 m²', '36 m²', '317 m²', '850 m²', '249 m²', '109 m²',\n",
       "       '420 m²', '995 m²', '545 m²', '192 m²', '1.250 m²', '490 m²',\n",
       "       '760 m²', '157 m²', '54 m²', '405 m²', '99 m²'], dtype=object)"
      ]
     },
     "execution_count": 46,
     "metadata": {},
     "output_type": "execute_result"
    }
   ],
   "source": [
    "df[\"celly 2\"].unique()"
   ]
  },
  {
   "cell_type": "code",
   "execution_count": 47,
   "id": "fec8bcb0",
   "metadata": {},
   "outputs": [],
   "source": [
    "df[\"celly 2\"] = df[\"celly 2\"].apply(lambda x: x.replace(\".\", \"\"))\n",
    "df[\"area\"] = df[\"celly 2\"].apply(lambda x: x.split(\" \")[0]).astype(int)"
   ]
  },
  {
   "cell_type": "code",
   "execution_count": 49,
   "id": "f1d8e03e",
   "metadata": {},
   "outputs": [
    {
     "data": {
      "text/plain": [
       "array([  55,  150,   60,  160,  135,   67,  140,  170,  130,  230,  220,\n",
       "        210,   89,  120,  200,  355,   75,  110,  100,   65,  145,  115,\n",
       "       1000,  250,  105,   50,   87,   90,   85,  155,  275,  240,   95,\n",
       "        174,   80,  125,  180,  165,  350,   97,   45,  300,   84,   42,\n",
       "         98,   86,  500,   70,   51,   73,  132,  325,  141,  450,  600,\n",
       "         47,   72,   71, 3000,  175,  320,  280,  156,  190,   78,  162,\n",
       "        185,   18,  330,  151,   56,  136,  131,   48,  580,  119,  147,\n",
       "         77,  245,   35,  375,  146,  161,  163,  149,  206,  138,   93,\n",
       "         63,   41,  183,   96,  108,   76,  475,  359,  124,   91,  194,\n",
       "         43, 4500,   68,  205,   20,  103,   53,  270,   58,  302,  505,\n",
       "        800,  168,  154,  368,  178,   40,  750,   92,  181,  400,   30,\n",
       "        260,  460,  390,   64,  360,  340,  550,   38,  121, 4000,  295,\n",
       "        112,  137,   22,  128, 3200,  440,  122,  370,  380,  204,  148,\n",
       "        142,  520,  166,  870,  143,   57,  286,   81,  116,  209,   59,\n",
       "        106,   74, 1301,   52,  167,  217,   25,  290,  196,  184,  159,\n",
       "        195,  640,  285,  235,  337,  211,  134,  832,  152,   88,  213,\n",
       "        126,  255,  199,  127,   11,   66,  399,  187,  341,  745,  118,\n",
       "        144,   15,  535, 5500,  114,  208,   94,   46,  173,  900,  225,\n",
       "        402,  111,  193, 1100,  212,  102,  177,  101,  164,  158,   62,\n",
       "        172, 9000,   21,  117,   82,   49,  176,  182,  981,  256,   32,\n",
       "       3510,  215, 1057,  171,   79,  169,   28,  104,  201,  310, 1150,\n",
       "       2000,  228,  700,  349,  203,  510,   31,   33,  950,  650,  252,\n",
       "        493,  265, 1400,    5,  113,   36,  317,  850,  249,  109,  420,\n",
       "        995,  545,  192, 1250,  490,  760,  157,   54,  405,   99])"
      ]
     },
     "execution_count": 49,
     "metadata": {},
     "output_type": "execute_result"
    }
   ],
   "source": [
    "df[\"area\"].unique()"
   ]
  },
  {
   "cell_type": "code",
   "execution_count": 50,
   "id": "789533cc",
   "metadata": {},
   "outputs": [],
   "source": [
    "df.drop([\"celly 2\"], axis=1, inplace=True)"
   ]
  },
  {
   "cell_type": "code",
   "execution_count": 51,
   "id": "050f0d2e",
   "metadata": {},
   "outputs": [
    {
     "name": "stdout",
     "output_type": "stream",
     "text": [
      "<class 'pandas.core.frame.DataFrame'>\n",
      "RangeIndex: 8136 entries, 0 to 8135\n",
      "Data columns (total 9 columns):\n",
      " #   Column           Non-Null Count  Dtype \n",
      "---  ------           --------------  ----- \n",
      " 0   list-view-price  8136 non-null   object\n",
      " 1   celly 3          8136 non-null   object\n",
      " 2   celly 4          6858 non-null   object\n",
      " 3   city             8136 non-null   object\n",
      " 4   district         8136 non-null   object\n",
      " 5   neighborhood     8136 non-null   object\n",
      " 6   room             8136 non-null   int32 \n",
      " 7   living_room      8136 non-null   int32 \n",
      " 8   area             8136 non-null   int32 \n",
      "dtypes: int32(3), object(6)\n",
      "memory usage: 476.8+ KB\n"
     ]
    }
   ],
   "source": [
    "df.info()"
   ]
  },
  {
   "cell_type": "code",
   "execution_count": null,
   "id": "68df79e0",
   "metadata": {},
   "outputs": [],
   "source": []
  }
 ],
 "metadata": {
  "kernelspec": {
   "display_name": "base",
   "language": "python",
   "name": "python3"
  },
  "language_info": {
   "codemirror_mode": {
    "name": "ipython",
    "version": 3
   },
   "file_extension": ".py",
   "mimetype": "text/x-python",
   "name": "python",
   "nbconvert_exporter": "python",
   "pygments_lexer": "ipython3",
   "version": "3.11.7"
  }
 },
 "nbformat": 4,
 "nbformat_minor": 5
}
