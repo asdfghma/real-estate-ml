{
 "cells": [
  {
   "cell_type": "code",
   "execution_count": 101,
   "id": "cf85e771",
   "metadata": {},
   "outputs": [],
   "source": [
    "import os\n",
    "import numpy as np\n",
    "import pandas as pd"
   ]
  },
  {
   "cell_type": "code",
   "execution_count": 102,
   "id": "b2922dba",
   "metadata": {},
   "outputs": [],
   "source": [
    "def drop_columns(df, cols):\n",
    "    for col in cols:\n",
    "        try:\n",
    "            df.drop([col], axis=1, inplace=True)\n",
    "        except Exception as e:\n",
    "            print(f\"{e}\")"
   ]
  },
  {
   "cell_type": "code",
   "execution_count": 103,
   "id": "55063777",
   "metadata": {},
   "outputs": [],
   "source": [
    "df = pd.read_csv(\"ham veri/01.csv\")"
   ]
  },
  {
   "cell_type": "code",
   "execution_count": 104,
   "id": "b8cf7d51",
   "metadata": {},
   "outputs": [
    {
     "name": "stdout",
     "output_type": "stream",
     "text": [
      "<class 'pandas.core.frame.DataFrame'>\n",
      "RangeIndex: 1416 entries, 0 to 1415\n",
      "Data columns (total 14 columns):\n",
      " #   Column               Non-Null Count  Dtype \n",
      "---  ------               --------------  ----- \n",
      " 0   img-link href        1416 non-null   object\n",
      " 1   photo-count          1416 non-null   int64 \n",
      " 2   list-view-price      1416 non-null   object\n",
      " 3   list-view-date       1416 non-null   object\n",
      " 4   left                 1416 non-null   object\n",
      " 5   celly                1416 non-null   object\n",
      " 6   celly 2              1416 non-null   object\n",
      " 7   celly 3              1416 non-null   object\n",
      " 8   celly 4              1247 non-null   object\n",
      " 9   list-view-location   1416 non-null   object\n",
      " 10  img-wrp href         642 non-null    object\n",
      " 11  he-lazy-image src    1321 non-null   object\n",
      " 12  he-lazy-image src 2  563 non-null    object\n",
      " 13  list-view-header     1412 non-null   object\n",
      "dtypes: int64(1), object(13)\n",
      "memory usage: 155.0+ KB\n"
     ]
    }
   ],
   "source": [
    "df.info()"
   ]
  },
  {
   "cell_type": "code",
   "execution_count": 105,
   "id": "2a8e9591",
   "metadata": {},
   "outputs": [
    {
     "data": {
      "text/plain": [
       "img-link href            0\n",
       "photo-count              0\n",
       "list-view-price          0\n",
       "list-view-date           0\n",
       "left                     0\n",
       "celly                    0\n",
       "celly 2                  0\n",
       "celly 3                  0\n",
       "celly 4                169\n",
       "list-view-location       0\n",
       "img-wrp href           774\n",
       "he-lazy-image src       95\n",
       "he-lazy-image src 2    853\n",
       "list-view-header         4\n",
       "dtype: int64"
      ]
     },
     "execution_count": 105,
     "metadata": {},
     "output_type": "execute_result"
    }
   ],
   "source": [
    "df.isnull().sum()"
   ]
  },
  {
   "cell_type": "code",
   "execution_count": 106,
   "id": "52b4089f",
   "metadata": {},
   "outputs": [],
   "source": [
    "files = os.listdir(\"ham veri\")\n",
    "df = pd.concat([pd.read_csv(f\"ham veri/{file}\") for file in files], ignore_index=True)"
   ]
  },
  {
   "cell_type": "code",
   "execution_count": 107,
   "id": "9ecd82dd",
   "metadata": {},
   "outputs": [
    {
     "data": {
      "text/html": [
       "<div>\n",
       "<style scoped>\n",
       "    .dataframe tbody tr th:only-of-type {\n",
       "        vertical-align: middle;\n",
       "    }\n",
       "\n",
       "    .dataframe tbody tr th {\n",
       "        vertical-align: top;\n",
       "    }\n",
       "\n",
       "    .dataframe thead th {\n",
       "        text-align: right;\n",
       "    }\n",
       "</style>\n",
       "<table border=\"1\" class=\"dataframe\">\n",
       "  <thead>\n",
       "    <tr style=\"text-align: right;\">\n",
       "      <th></th>\n",
       "      <th>img-link href</th>\n",
       "      <th>photo-count</th>\n",
       "      <th>list-view-price</th>\n",
       "      <th>list-view-date</th>\n",
       "      <th>left</th>\n",
       "      <th>celly</th>\n",
       "      <th>celly 2</th>\n",
       "      <th>celly 3</th>\n",
       "      <th>celly 4</th>\n",
       "      <th>list-view-location</th>\n",
       "      <th>img-wrp href</th>\n",
       "      <th>he-lazy-image src</th>\n",
       "      <th>he-lazy-image src 2</th>\n",
       "      <th>list-view-header</th>\n",
       "      <th>branded__text</th>\n",
       "      <th>branded__text 2</th>\n",
       "      <th>img-wrp href 2</th>\n",
       "      <th>he-lazy-image src 3</th>\n",
       "    </tr>\n",
       "  </thead>\n",
       "  <tbody>\n",
       "    <tr>\n",
       "      <th>7736</th>\n",
       "      <td>https://www.hepsiemlak.com/mugla-bodrum-umurca...</td>\n",
       "      <td>25.0</td>\n",
       "      <td>75.000</td>\n",
       "      <td>22-02-2024</td>\n",
       "      <td>Kiralık Müstakil Ev</td>\n",
       "      <td>3 +\\n                        1</td>\n",
       "      <td>800 m²</td>\n",
       "      <td>10\\n                      Yaşında</td>\n",
       "      <td>NaN</td>\n",
       "      <td>Bodrum, Umurca Mahallesi</td>\n",
       "      <td>NaN</td>\n",
       "      <td>https://hecdn01.hemlak.com/mncropresize/182/13...</td>\n",
       "      <td>NaN</td>\n",
       "      <td>Bodrum Merkez Umurçada Müstakil Özel Havuzlu,B...</td>\n",
       "      <td>NaN</td>\n",
       "      <td>NaN</td>\n",
       "      <td>NaN</td>\n",
       "      <td>NaN</td>\n",
       "    </tr>\n",
       "  </tbody>\n",
       "</table>\n",
       "</div>"
      ],
      "text/plain": [
       "                                          img-link href  photo-count  \\\n",
       "7736  https://www.hepsiemlak.com/mugla-bodrum-umurca...         25.0   \n",
       "\n",
       "     list-view-price list-view-date                 left  \\\n",
       "7736          75.000     22-02-2024  Kiralık Müstakil Ev   \n",
       "\n",
       "                               celly celly 2  \\\n",
       "7736  3 +\\n                        1  800 m²   \n",
       "\n",
       "                                celly 3 celly 4        list-view-location  \\\n",
       "7736  10\\n                      Yaşında     NaN  Bodrum, Umurca Mahallesi   \n",
       "\n",
       "     img-wrp href                                  he-lazy-image src  \\\n",
       "7736          NaN  https://hecdn01.hemlak.com/mncropresize/182/13...   \n",
       "\n",
       "     he-lazy-image src 2                                   list-view-header  \\\n",
       "7736                 NaN  Bodrum Merkez Umurçada Müstakil Özel Havuzlu,B...   \n",
       "\n",
       "     branded__text branded__text 2 img-wrp href 2 he-lazy-image src 3  \n",
       "7736           NaN             NaN            NaN                 NaN  "
      ]
     },
     "execution_count": 107,
     "metadata": {},
     "output_type": "execute_result"
    }
   ],
   "source": [
    "df.sample()"
   ]
  },
  {
   "cell_type": "code",
   "execution_count": 108,
   "id": "377f55cc",
   "metadata": {},
   "outputs": [
    {
     "data": {
      "text/html": [
       "<div>\n",
       "<style scoped>\n",
       "    .dataframe tbody tr th:only-of-type {\n",
       "        vertical-align: middle;\n",
       "    }\n",
       "\n",
       "    .dataframe tbody tr th {\n",
       "        vertical-align: top;\n",
       "    }\n",
       "\n",
       "    .dataframe thead th {\n",
       "        text-align: right;\n",
       "    }\n",
       "</style>\n",
       "<table border=\"1\" class=\"dataframe\">\n",
       "  <thead>\n",
       "    <tr style=\"text-align: right;\">\n",
       "      <th></th>\n",
       "      <th>img-link href</th>\n",
       "      <th>photo-count</th>\n",
       "      <th>list-view-price</th>\n",
       "      <th>list-view-date</th>\n",
       "      <th>left</th>\n",
       "      <th>celly</th>\n",
       "      <th>celly 2</th>\n",
       "      <th>celly 3</th>\n",
       "      <th>celly 4</th>\n",
       "      <th>list-view-location</th>\n",
       "      <th>img-wrp href</th>\n",
       "      <th>he-lazy-image src</th>\n",
       "      <th>he-lazy-image src 2</th>\n",
       "      <th>list-view-header</th>\n",
       "      <th>branded__text</th>\n",
       "      <th>branded__text 2</th>\n",
       "      <th>img-wrp href 2</th>\n",
       "      <th>he-lazy-image src 3</th>\n",
       "    </tr>\n",
       "  </thead>\n",
       "  <tbody>\n",
       "    <tr>\n",
       "      <th>0</th>\n",
       "      <td>https://www.hepsiemlak.com/izmir-konak-kilic-r...</td>\n",
       "      <td>17.0</td>\n",
       "      <td>12.000</td>\n",
       "      <td>15-04-2024</td>\n",
       "      <td>Kiralık Daire</td>\n",
       "      <td>1 +\\n                        1</td>\n",
       "      <td>55 m²</td>\n",
       "      <td>25\\n                      Yaşında</td>\n",
       "      <td>Yüksek Giriş</td>\n",
       "      <td>Konak,</td>\n",
       "      <td>https://www.hepsiemlak.com/emlak-ofisi/grup-ga...</td>\n",
       "      <td>https://www.hepsiemlak.com/img/loadings/noImag...</td>\n",
       "      <td>NaN</td>\n",
       "      <td>NaN</td>\n",
       "      <td>NaN</td>\n",
       "      <td>NaN</td>\n",
       "      <td>NaN</td>\n",
       "      <td>NaN</td>\n",
       "    </tr>\n",
       "    <tr>\n",
       "      <th>1</th>\n",
       "      <td>https://www.hepsiemlak.com/izmir-konak-akin-si...</td>\n",
       "      <td>35.0</td>\n",
       "      <td>16.000</td>\n",
       "      <td>09-04-2024</td>\n",
       "      <td>Kiralık Daire</td>\n",
       "      <td>3 +\\n                        1</td>\n",
       "      <td>150 m²</td>\n",
       "      <td>35\\n                      Yaşında</td>\n",
       "      <td>3. Kat</td>\n",
       "      <td>Konak,</td>\n",
       "      <td>https://www.hepsiemlak.com/emlak-ofisi/grup-ga...</td>\n",
       "      <td>https://www.hepsiemlak.com/img/loadings/noImag...</td>\n",
       "      <td>NaN</td>\n",
       "      <td>NaN</td>\n",
       "      <td>NaN</td>\n",
       "      <td>NaN</td>\n",
       "      <td>NaN</td>\n",
       "      <td>NaN</td>\n",
       "    </tr>\n",
       "    <tr>\n",
       "      <th>2</th>\n",
       "      <td>https://www.hepsiemlak.com/izmir-buca-adatepe-...</td>\n",
       "      <td>5.0</td>\n",
       "      <td>200</td>\n",
       "      <td>13-04-2024</td>\n",
       "      <td>Kiralık Daire</td>\n",
       "      <td>2 +\\n                        1</td>\n",
       "      <td>55 m²</td>\n",
       "      <td>2\\n                      Yaşında</td>\n",
       "      <td>Ara Kat</td>\n",
       "      <td>Buca,</td>\n",
       "      <td>https://www.hepsiemlak.com/emlak-ofisi/eleganc...</td>\n",
       "      <td>https://hecdnnw.hemlak.com/mncropresize/91/68/...</td>\n",
       "      <td>NaN</td>\n",
       "      <td>NaN</td>\n",
       "      <td>NaN</td>\n",
       "      <td>NaN</td>\n",
       "      <td>NaN</td>\n",
       "      <td>NaN</td>\n",
       "    </tr>\n",
       "    <tr>\n",
       "      <th>3</th>\n",
       "      <td>https://www.hepsiemlak.com/izmir-buca-yaylacik...</td>\n",
       "      <td>7.0</td>\n",
       "      <td>200</td>\n",
       "      <td>13-04-2024</td>\n",
       "      <td>Kiralık Daire</td>\n",
       "      <td>2 +\\n                        1</td>\n",
       "      <td>60 m²</td>\n",
       "      <td>2\\n                      Yaşında</td>\n",
       "      <td>3. Kat</td>\n",
       "      <td>Buca,</td>\n",
       "      <td>https://www.hepsiemlak.com/emlak-ofisi/eleganc...</td>\n",
       "      <td>https://hecdn01.hemlak.com/mncropresize/280/21...</td>\n",
       "      <td>https://hecdnnw.hemlak.com/mncropresize/91/68/...</td>\n",
       "      <td>NaN</td>\n",
       "      <td>NaN</td>\n",
       "      <td>NaN</td>\n",
       "      <td>NaN</td>\n",
       "      <td>NaN</td>\n",
       "    </tr>\n",
       "    <tr>\n",
       "      <th>4</th>\n",
       "      <td>https://www.hepsiemlak.com/izmir-karsiyaka-bah...</td>\n",
       "      <td>25.0</td>\n",
       "      <td>18.000</td>\n",
       "      <td>15-04-2024</td>\n",
       "      <td>Kiralık Daire</td>\n",
       "      <td>3 +\\n                        1</td>\n",
       "      <td>160 m²</td>\n",
       "      <td>27\\n                      Yaşında</td>\n",
       "      <td>3. Kat</td>\n",
       "      <td>Karşıyaka, Bahçelievler Mahallesi</td>\n",
       "      <td>NaN</td>\n",
       "      <td>https://hecdn01.hemlak.com/mncropresize/182/13...</td>\n",
       "      <td>NaN</td>\n",
       "      <td>Karşıyaka Kiralık 2 Balkonlu Naldöken Metro Sa...</td>\n",
       "      <td>NaN</td>\n",
       "      <td>NaN</td>\n",
       "      <td>NaN</td>\n",
       "      <td>NaN</td>\n",
       "    </tr>\n",
       "  </tbody>\n",
       "</table>\n",
       "</div>"
      ],
      "text/plain": [
       "                                       img-link href  photo-count  \\\n",
       "0  https://www.hepsiemlak.com/izmir-konak-kilic-r...         17.0   \n",
       "1  https://www.hepsiemlak.com/izmir-konak-akin-si...         35.0   \n",
       "2  https://www.hepsiemlak.com/izmir-buca-adatepe-...          5.0   \n",
       "3  https://www.hepsiemlak.com/izmir-buca-yaylacik...          7.0   \n",
       "4  https://www.hepsiemlak.com/izmir-karsiyaka-bah...         25.0   \n",
       "\n",
       "  list-view-price list-view-date           left  \\\n",
       "0          12.000     15-04-2024  Kiralık Daire   \n",
       "1          16.000     09-04-2024  Kiralık Daire   \n",
       "2             200     13-04-2024  Kiralık Daire   \n",
       "3             200     13-04-2024  Kiralık Daire   \n",
       "4          18.000     15-04-2024  Kiralık Daire   \n",
       "\n",
       "                            celly celly 2                            celly 3  \\\n",
       "0  1 +\\n                        1   55 m²  25\\n                      Yaşında   \n",
       "1  3 +\\n                        1  150 m²  35\\n                      Yaşında   \n",
       "2  2 +\\n                        1   55 m²   2\\n                      Yaşında   \n",
       "3  2 +\\n                        1   60 m²   2\\n                      Yaşında   \n",
       "4  3 +\\n                        1  160 m²  27\\n                      Yaşında   \n",
       "\n",
       "        celly 4                 list-view-location  \\\n",
       "0  Yüksek Giriş                             Konak,   \n",
       "1        3. Kat                             Konak,   \n",
       "2       Ara Kat                              Buca,   \n",
       "3        3. Kat                              Buca,   \n",
       "4        3. Kat  Karşıyaka, Bahçelievler Mahallesi   \n",
       "\n",
       "                                        img-wrp href  \\\n",
       "0  https://www.hepsiemlak.com/emlak-ofisi/grup-ga...   \n",
       "1  https://www.hepsiemlak.com/emlak-ofisi/grup-ga...   \n",
       "2  https://www.hepsiemlak.com/emlak-ofisi/eleganc...   \n",
       "3  https://www.hepsiemlak.com/emlak-ofisi/eleganc...   \n",
       "4                                                NaN   \n",
       "\n",
       "                                   he-lazy-image src  \\\n",
       "0  https://www.hepsiemlak.com/img/loadings/noImag...   \n",
       "1  https://www.hepsiemlak.com/img/loadings/noImag...   \n",
       "2  https://hecdnnw.hemlak.com/mncropresize/91/68/...   \n",
       "3  https://hecdn01.hemlak.com/mncropresize/280/21...   \n",
       "4  https://hecdn01.hemlak.com/mncropresize/182/13...   \n",
       "\n",
       "                                 he-lazy-image src 2  \\\n",
       "0                                                NaN   \n",
       "1                                                NaN   \n",
       "2                                                NaN   \n",
       "3  https://hecdnnw.hemlak.com/mncropresize/91/68/...   \n",
       "4                                                NaN   \n",
       "\n",
       "                                    list-view-header branded__text  \\\n",
       "0                                                NaN           NaN   \n",
       "1                                                NaN           NaN   \n",
       "2                                                NaN           NaN   \n",
       "3                                                NaN           NaN   \n",
       "4  Karşıyaka Kiralık 2 Balkonlu Naldöken Metro Sa...           NaN   \n",
       "\n",
       "  branded__text 2 img-wrp href 2 he-lazy-image src 3  \n",
       "0             NaN            NaN                 NaN  \n",
       "1             NaN            NaN                 NaN  \n",
       "2             NaN            NaN                 NaN  \n",
       "3             NaN            NaN                 NaN  \n",
       "4             NaN            NaN                 NaN  "
      ]
     },
     "execution_count": 108,
     "metadata": {},
     "output_type": "execute_result"
    }
   ],
   "source": [
    "df.head()"
   ]
  },
  {
   "cell_type": "code",
   "execution_count": 109,
   "id": "982b1d75",
   "metadata": {},
   "outputs": [
    {
     "data": {
      "text/plain": [
       "Index(['img-link href', 'photo-count', 'list-view-price', 'list-view-date',\n",
       "       'left', 'celly', 'celly 2', 'celly 3', 'celly 4', 'list-view-location',\n",
       "       'img-wrp href', 'he-lazy-image src', 'he-lazy-image src 2',\n",
       "       'list-view-header', 'branded__text', 'branded__text 2',\n",
       "       'img-wrp href 2', 'he-lazy-image src 3'],\n",
       "      dtype='object')"
      ]
     },
     "execution_count": 109,
     "metadata": {},
     "output_type": "execute_result"
    }
   ],
   "source": [
    "df.columns"
   ]
  },
  {
   "cell_type": "code",
   "execution_count": 110,
   "id": "f7052e19",
   "metadata": {},
   "outputs": [],
   "source": [
    "cols = ['photo-count', 'list-view-date', 'list-view-header', 'list-view-location', 'he-lazy-image src', 'left', 'img-wrp href', 'he-lazy-image src 2', 'branded__text', 'branded__text 2', 'img-wrp href 2', 'he-lazy-image src 3']\n",
    "drop_columns(df, cols)"
   ]
  },
  {
   "cell_type": "code",
   "execution_count": 111,
   "id": "01305ffe",
   "metadata": {},
   "outputs": [
    {
     "name": "stdout",
     "output_type": "stream",
     "text": [
      "<class 'pandas.core.frame.DataFrame'>\n",
      "RangeIndex: 8136 entries, 0 to 8135\n",
      "Data columns (total 6 columns):\n",
      " #   Column           Non-Null Count  Dtype \n",
      "---  ------           --------------  ----- \n",
      " 0   img-link href    8136 non-null   object\n",
      " 1   list-view-price  8136 non-null   object\n",
      " 2   celly            8136 non-null   object\n",
      " 3   celly 2          8136 non-null   object\n",
      " 4   celly 3          8136 non-null   object\n",
      " 5   celly 4          6858 non-null   object\n",
      "dtypes: object(6)\n",
      "memory usage: 381.5+ KB\n"
     ]
    }
   ],
   "source": [
    "df.info()"
   ]
  },
  {
   "cell_type": "code",
   "execution_count": 112,
   "id": "8dde5681",
   "metadata": {},
   "outputs": [
    {
     "data": {
      "text/plain": [
       "array(['https://www.hepsiemlak.com/izmir-konak-kilic-reis-kiralik/daire/130125-62',\n",
       "       'https://www.hepsiemlak.com/izmir-konak-akin-simav-kiralik/daire/130125-91',\n",
       "       'https://www.hepsiemlak.com/izmir-buca-adatepe-kiralik/daire/138098-14',\n",
       "       ...,\n",
       "       'https://www.hepsiemlak.com/mugla-mentese-yenikoy-kiralik/daire/76834-2215',\n",
       "       'https://www.hepsiemlak.com/mugla-bodrum-turkbuku-kiralik/yazlik/5343-8596',\n",
       "       'https://www.hepsiemlak.com/mugla-ortaca-cayli-kiralik/daire/82884-1210'],\n",
       "      dtype=object)"
      ]
     },
     "execution_count": 112,
     "metadata": {},
     "output_type": "execute_result"
    }
   ],
   "source": [
    "df[\"img-link href\"].unique()"
   ]
  },
  {
   "cell_type": "code",
   "execution_count": 113,
   "id": "f0e4c4f6",
   "metadata": {},
   "outputs": [],
   "source": [
    "df[\"location\"] = df[\"img-link href\"].apply(lambda x: x.split(\"/\")[3])\n",
    "df[\"city\"] = df[\"location\"].str.split(\"-\").str[0]\n",
    "df[\"district\"] = df[\"location\"].str.split(\"-\").str[1]\n",
    "df[\"neighborhood\"] = df[\"location\"].str.split(\"-\").str[2:-1]\n",
    "df[\"neighborhood\"] = df[\"neighborhood\"].apply(lambda x: \"-\".join(x))"
   ]
  },
  {
   "cell_type": "code",
   "execution_count": 114,
   "id": "f31b6e3a",
   "metadata": {},
   "outputs": [
    {
     "data": {
      "text/plain": [
       "array(['kilic-reis', 'akin-simav', 'adatepe', 'yaylacik', 'bahcelievler',\n",
       "       'kultur', 'kazimdirik', 'yesil', 'atifbey', 'dokuz-eylul', 'irmak',\n",
       "       'cumhuriyet', 'gumuldur-inonu', 'alacati', 'esenyali', 'bostanli',\n",
       "       'colak-ibrahim-bey', 'cakmakli', 'yali', 'umut', 'manavkuyu',\n",
       "       'cakaltepe', 'ataturk', 'camlicay', 'kucuk-cigli', 'cetin-emec',\n",
       "       'zafer', 'sogukkuyu', 'zubeyde-hanim', 'emek', 'cakabey',\n",
       "       'germiyan', 'yenikent', 'yenigun', 'barbaros', 'gulyaka',\n",
       "       'yasar-kemal', 'general-kazim-ozalp', 'kozagac', 'goncalar',\n",
       "       'mansuroglu', 'denizli', 'bayrakli', 'egitim', 'evka-3',\n",
       "       'mithatpasa', 'fatih', 'altievler', 'limanreis', 'guvendik',\n",
       "       'yesiltepe', 'atasehir', 'cukuralti', 'esentepe', 'kemal-ataturk',\n",
       "       'mehmet-ali-akman', '29-ekim', 'onur', 'tuna', 'kabakum',\n",
       "       'fevzi-cakmak', 'gazikent', 'erzene', 'camli', 'poligon',\n",
       "       'goztepe', 'atilla', 'doganay', 'cuneytbey', 'kurucesme',\n",
       "       'altinyunus', 'balatcik', 'reisdere', 'bahriye-ucok', 'uckuyular',\n",
       "       'dedebasi', 'imbatli', 'firat', 'ismet-inonu', 'tahsin-yazici',\n",
       "       'ilica', 'vatan', 'camtepe', 'ornekkoy', 'semikler', 'alsancak',\n",
       "       'metin-oktay', 'atakent', 'doganlar', 'donanmaci', 'murat-reis',\n",
       "       'dalyan', 'nergiz', 'orhanli', 'kemal-reis', 'torasan', 'alaybey',\n",
       "       'kahramanlar', 'bahariye', 'altay', 'refet-bele',\n",
       "       'mustafa-kemal-ataturk', 'camlikule', 'koruturk', 'tepekule',\n",
       "       'inkilap', 'basin-sitesi', 'aksoy', 'turgut-reis', 'gulbahce',\n",
       "       'mimar-sinan', 'tersane', 'bahar', 'koyici', 'kazim-karabekir',\n",
       "       'arap-hasan', 'ciftlik', 'piri-reis', '16-eylul', 'sirinkent',\n",
       "       'mevlana', 'ismetpasa', 'maltepe', 'aydinlikevler', 'musalla',\n",
       "       'aydogdu', 'gumuldur-fevzi-cakmak', 'candarli', '30-agustos',\n",
       "       'kahramandere', 'hidirlik', 'halkapinar', 'fikri-altay',\n",
       "       'ali-fuat-cebesoy', 'yildiz', 'osmangazi', 'selvili', 'yesilova',\n",
       "       'salimbey', 'kemalpasa', 'narli', 'saip', '75-yil', 'yedi-eylul',\n",
       "       'inonu', 'yenikale', 'gorece-cumhuriyet', 'salihler',\n",
       "       'ahmet-efendi', 'rafet-pasa', 'muhittin-erener', 'gunesli',\n",
       "       'maliyeciler', 'kasimpasa', 'mavisehir', '9-eylul', 'gazipasa',\n",
       "       'sakarya', 'calikusu', 'ulucak-mustafa-kemal-ataturk', 'gazi',\n",
       "       'cicek', 'mordogan', 'bozyaka', 'baris', 'zafertepe',\n",
       "       'mustafa-kemal-pasa', 'altintas', 'golcukler', 'mermerli',\n",
       "       'celal-bayar', 'hurriyet', 'goksu', 'ovacik', 'efeler',\n",
       "       'zeytinalani', 'sevgi', 'anafartalar', 'ulamis', 'iskele',\n",
       "       'teleferik', 'yurdoglu', 'balikliova', 'gazi-mustafa-kemal',\n",
       "       'guzelyali', 'tepekoy', 'adalet', 'merkez', 'camikebir', 'selcuk',\n",
       "       'ozbek', 'villakent', 'ulus', 'r-sevket-ince', 'aydin', 'cay',\n",
       "       'sahilevleri', 'menderes', 'ilipinar', 'ugur-mumcu', 'kazim-dirik',\n",
       "       'kurtulus', 'fuat-edip-baksi', 'zeytinlik', '85-yil-cumhuriyet',\n",
       "       'turabiye', 'camlipinar', 'yesilbaglar', 'gumuldur-ataturk',\n",
       "       'cankaya', 'evka-4', 'yenibagarasi', 'yemislik', 'torbali',\n",
       "       'yelki', 'egekent', '2-inonu', 'uzundere', 'guven', 'buca-osb',\n",
       "       'kalabak', 'yenice', 'istiklal', 'yesil-pinar', 'mustafa-kemal',\n",
       "       'kosukavak', 'fahrettin-altay', 'yakakent', 'korfez', 'ayvatlar',\n",
       "       'ayrancilar', 'incirli-pinar', 'tulbentli', 'oglananasi-ataturk',\n",
       "       'camlik', 'sigacik', 'huzur', 'gunaltay', 'kizilay', 'evka-5',\n",
       "       'isa-bey', 'ardic', 'kavaklidere',\n",
       "       'harmandali-gazi-mustafa-kemal-ataturk', 'gurpinar', 'fevzipasa',\n",
       "       'ozdere-cumhuriyet', 'bademli', 'sifne', 'umurbey', 'devrim',\n",
       "       'reis', 'yelalti', 'bademler', 'catalkaya', 'postacilar',\n",
       "       'tinaztepe', 'karacaoglan', 'ildir', 'sasalli-merkez', 'laleli',\n",
       "       'ergene', 'evka-6', 'yahselli', 'boyalik', 'gunerli', 'dicle',\n",
       "       'salih-omurtak', 'esatpasa', 'guzeltepe', 'suleyman-demirel',\n",
       "       'haciveli', 'alpaslan', 'siteler', 'yamanlar', 'kuscular',\n",
       "       'gumuspala', 'yenikoy', 'yukarikizilca-merkez', 'dumlupinar',\n",
       "       '14-mayis', 'ufuk', 'demirkopru', 'turkcedit', 'vali-rahmi-bey',\n",
       "       'muammer-akar', 'm-fevzi-cakmak', 'dogancay', 'bengiler',\n",
       "       'gaziler', '4-eylul', 'peker', 'muratbey', 'yeni-mahalle', 'kuner',\n",
       "       'murathan', 'belen', 'gazi-osman-pasa', 'emrez', 'cennetoglu',\n",
       "       'akincilar', 'ulucak-cumhuriyet', 'esenlik', 'ahmet-taner-kislali',\n",
       "       'yigitler', 'payamli', 'armutlu-85-yil-cumhuriyet', 'sasal',\n",
       "       'ertugrul', 'sirinkapi', 'kozbeyli', 'bengisu',\n",
       "       'gumuldur-cumhuriyet', 'adnan-suvari', 'beyazevler', 'buca-koop',\n",
       "       'emmioglu', 'rustem', 'dagkizilca', 'ahmetbeyli', 'haci-isa',\n",
       "       'icmeler', 'tepecik', 'develi', 'birlik', 'kocatepe', 'dolaylar',\n",
       "       'yagcilar', 'oglananasi-cumhuriyet', 'turkmen', 'izkent',\n",
       "       'turkmenkoy', 'armutlu-hurriyet', 'adnan-menderes', 'duzce',\n",
       "       'akdeniz', 'pancar', 'yazibasi', 'cinarli', 'aziziye',\n",
       "       'org-nafiz-gurman', 'inciralti', 'orta', 'etiler', 'tuzcu',\n",
       "       'karanfil', 'cinar', 'celebi', 'sira', 'caldiran', 'gunluce',\n",
       "       'sehit-mehmet', 'bagcilar', 'mesrutiyet', 'universite', 'konak',\n",
       "       'maresal-fevzi-cakmak', 'karacaagac', 'degirmendere', 'doga',\n",
       "       'gungor', 'umit', 'aktepe', 'seyhan', 'yaylayurt', 'birgi',\n",
       "       'mersin-alani', 'ocakli', 'sekiz-eylul', 'evka-2', 'fahrettinpasa',\n",
       "       'karabaglar', 'sirintepe', 'golcuk', 'yeni', 'ataturk-osb',\n",
       "       'egemenlik', '2-kadriye', 'kazimpasa', 'ahihidir', 'muradiye',\n",
       "       '2-anafartalar', 'kuyualan', 'goktasli', 'dincer', 'resat-bey',\n",
       "       'guzelyurt', 'ulu-camii', 'acarlar', 'haci-ishak', 'pasa',\n",
       "       'uncubozkoy', 'eski-cami', 'kirveli', 'ergenekon', 'efendi',\n",
       "       'arda', 'albayrak', 'selvilitepe', 'hafsa-sultan', 'topcuasim',\n",
       "       'ragip-bey', 'mesir', 'kocacesme', 'medar', 'tunca', 'yoruk',\n",
       "       'karaali', '1-anafartalar', 'yarhasanlar', 'sehitler', 'subasi',\n",
       "       'tevfikiye', 'kethuda', 'istasyonalti', 'durasilli', 'utku',\n",
       "       'dere', 'seyit-ahmet', 'gokceahmet', 'ayni-ali', 'has-hoca',\n",
       "       'merkez-efendi', 'saripinar', 'cengiz-topel', 'kecili-koy',\n",
       "       'carsi', 'ege', 'istasyon', 'akmescit', 'dilsikar', 'gaybiefendi',\n",
       "       'yunusemre', 'meydan', 'fuatpasa', 'saray', 'parmakoren', 'akkent',\n",
       "       'dagcesme', 'alipasa', 'yildirim-beyazit', 'servi', 'balikli',\n",
       "       'mecidiye', 'omerbey', 'g-kemal', 'kemaloz', 'durak', 'unalan',\n",
       "       'hasan-karaagac', 'erenler', 'ali-ihsan-pasa',\n",
       "       'erkmen-fevzi-cakmak', 'kanlica', 'dortyol', 'sahipata',\n",
       "       'osman-gazi', 'asagi', 'aktas', 'sirinevler', 'veysel-karani',\n",
       "       'pinarli', 'dervis-pasa', 'esrefpasa', 'imaret', 'marulcu',\n",
       "       'karsiyaka', 'haci-musa', 'yunus-emre', 'nazmi-saatci', 'selcuklu',\n",
       "       'sazi', 'guzelcamli', 'isabeyli', 'akbuk', 'ikicesmelik', 'zeybek',\n",
       "       'karaova', 'guzelhisar', 'yavansu', 'gerenkova', 'cuma', 'girne',\n",
       "       'davutlar', 'ovaeymir', 'hasanefendi-ramazan-pasa', 'hisar',\n",
       "       'bayraklidede', 'kadinlar-denizi', 'sogucak', 'koprulu-veysipasa',\n",
       "       'sumer', 'altinkum', 'ata', 'zeytinkoy', 'yenicamii', 'kemer',\n",
       "       'hacifeyzullah', 'kadikalesi', 'uceylul', 'yilmazkoy', 'hamitabat',\n",
       "       'ortaklar', 'mesudiye', 'yedieylul', 'yamac', 'sevketiye',\n",
       "       'isikli', 'alacamescit', 'caferli', 'agacli', 'imamkoy', 'karacay',\n",
       "       'turan', 'sandikli', 'celtikci', 'yaylakoy', 'karakollar',\n",
       "       'mersindere', 'camiatik', 'degirmenonu', 'muratdede', 'topraklik',\n",
       "       'kuspinar', 'sirakapilar', 'akkonak', 'incilipinar', 'feslegen',\n",
       "       'karaman', 'gultepe', 'mehmetcik', 'selcuk-bey', 'karahasanli',\n",
       "       'saraylar', 'asmalievler', 'kinikli', 'kayalar', 'hacikaplanlar',\n",
       "       'bagbasi', 'kervansaray', 'atalar', 'gumuscay', '15-mayis',\n",
       "       'sevindik', 'bala', 'kizilcasogut', 'deliktas', 'gerzele',\n",
       "       'pelitlibag', 'mehmet-akif-ersoy', 'kocadere', 'servergazi',\n",
       "       'saruhan', 'hallaclar', 'altintop', 'sirinkoy', 'ilbade',\n",
       "       'yenisafak', 'zumrut', 'gokpinar', 'dokuzkavaklar', 'tekke',\n",
       "       'cankurtaran', 'bereketler', '1200-evler', 'kayihan', 'cakmak',\n",
       "       'garipkoy', 'yenisehir', 'gemispinari', 'karakurt', 'dirmil',\n",
       "       'inlice', 'eskicesme', 'muskebi', 'emirbeyazit', 'umurca',\n",
       "       'okcular', 'akyaka', 'gulluk', 'gundogan', 'kemaliye', 'bitez',\n",
       "       'karacali', 'golkoy', 'kucukbuk', 'cayli', 'gumusluk', 'kafaca',\n",
       "       'karaburun', 'gokova', 'yalikavak', 'gulpinar', 'dorttepe',\n",
       "       'yangi', 'sogutluyurt', 'armutalan', 'geris', 'ismet-pasa',\n",
       "       'ortakoy', 'cirkan', 'hamitkoy', 'gelisim', 'torba', 'turgutreis',\n",
       "       'beldibi', 'kumbahce', 'patlangic', 'bayir', 'akyarlar', 'oren',\n",
       "       'beyobasi', 'karamehmet', 'terzialiler', 'karagedik', 'akcaalan',\n",
       "       'bogazici', 'dogusbelen', 'yakakoy', 'turgut', 'dugerek',\n",
       "       'guvercinlik', 'turkbuku', 'orhaniye', 'tuzla', 'kizlan',\n",
       "       'koyunbaba', 'foca', 'karabag', 'emecik', 'yokusbasi', 'gumbet',\n",
       "       'derekoy', 'alparslan', 'akarca', 'kotekli', 'karaculha',\n",
       "       'toparlar', 'islamhaneleri', 'camkoy', 'babatasi', 'yesilyurt',\n",
       "       'akinci', 'cami', 'kesikkapi', 'becin', 'resadiye', 'gurece',\n",
       "       'pinar', 'pazaryeri', 'mumcular', 'menteseoglu', 'tepe', 'sogut',\n",
       "       'tasyaka', 'beskopru', 'oludeniz', 'gokce', 'ulucami', 'peksimet',\n",
       "       'gocek', 'bozalan', 'gunes', 'turkevleri', 'yahsi', 'serefler',\n",
       "       'datca', 'yaka', 'kayakoy', 'farilya', 'eksiliyurt', 'muslihittin',\n",
       "       'kargi', 'kapukargin', 'kizilagac', 'eskikoy', 'dalakli',\n",
       "       'pinarlibelen', 'haci-ilyas', 'kizilbel', 'sarigerme', 'koprubasi',\n",
       "       'portakallik', 'dikmekavak', 'yesilkoy', 'sariana', 'ugurlu',\n",
       "       'konacik', 'turunc', 'gulagzi', 'yaniklar', 'kazikli',\n",
       "       'turkkuyusu', 'fevziye', 'kemeralti', 'arikbasi', 'selimiye',\n",
       "       'kiyikislacik', 'cevat-sakir', 'haciabti', 'cildir', 'meselik',\n",
       "       'ekincik', 'hisaronu', 'akcaova', 'ahmet-cavus-hayitli',\n",
       "       'yerkesik', 'yayla', 'gokceovacik', 'cokertme', 'kizilyaka',\n",
       "       'karginkuru', 'catalarik', 'bezkese', 'hatipirimi', 'zaferler',\n",
       "       'karagozler', 'firuzpasa-gazipasa', 'ayazkiyi', 'esenkoy', 'seyh',\n",
       "       'karakoy', 'mergenli', 'dogan', 'kavakarasi', 'kizilkaya',\n",
       "       'kumkoy', 'yazi', 'hacirustem', 'yaras', 'tepearasi', 'sindi',\n",
       "       'kiran', 'koru', 'gerisburnu', 'citlik', 'golbasi', 'kiramettin',\n",
       "       'incirkoy', 'burgaz'], dtype=object)"
      ]
     },
     "execution_count": 114,
     "metadata": {},
     "output_type": "execute_result"
    }
   ],
   "source": [
    "df[\"neighborhood\"].unique()"
   ]
  },
  {
   "cell_type": "code",
   "execution_count": 115,
   "id": "898b4cbe",
   "metadata": {},
   "outputs": [],
   "source": [
    "df.drop([\"location\", \"img-link href\"], axis=1, inplace=True)"
   ]
  },
  {
   "cell_type": "code",
   "execution_count": 116,
   "id": "b563a673",
   "metadata": {},
   "outputs": [
    {
     "name": "stdout",
     "output_type": "stream",
     "text": [
      "<class 'pandas.core.frame.DataFrame'>\n",
      "RangeIndex: 8136 entries, 0 to 8135\n",
      "Data columns (total 8 columns):\n",
      " #   Column           Non-Null Count  Dtype \n",
      "---  ------           --------------  ----- \n",
      " 0   list-view-price  8136 non-null   object\n",
      " 1   celly            8136 non-null   object\n",
      " 2   celly 2          8136 non-null   object\n",
      " 3   celly 3          8136 non-null   object\n",
      " 4   celly 4          6858 non-null   object\n",
      " 5   city             8136 non-null   object\n",
      " 6   district         8136 non-null   object\n",
      " 7   neighborhood     8136 non-null   object\n",
      "dtypes: object(8)\n",
      "memory usage: 508.6+ KB\n"
     ]
    }
   ],
   "source": [
    "df.info()"
   ]
  },
  {
   "cell_type": "code",
   "execution_count": 117,
   "id": "d5340c49",
   "metadata": {},
   "outputs": [
    {
     "data": {
      "text/html": [
       "<div>\n",
       "<style scoped>\n",
       "    .dataframe tbody tr th:only-of-type {\n",
       "        vertical-align: middle;\n",
       "    }\n",
       "\n",
       "    .dataframe tbody tr th {\n",
       "        vertical-align: top;\n",
       "    }\n",
       "\n",
       "    .dataframe thead th {\n",
       "        text-align: right;\n",
       "    }\n",
       "</style>\n",
       "<table border=\"1\" class=\"dataframe\">\n",
       "  <thead>\n",
       "    <tr style=\"text-align: right;\">\n",
       "      <th></th>\n",
       "      <th>list-view-price</th>\n",
       "      <th>celly</th>\n",
       "      <th>celly 2</th>\n",
       "      <th>celly 3</th>\n",
       "      <th>celly 4</th>\n",
       "      <th>city</th>\n",
       "      <th>district</th>\n",
       "      <th>neighborhood</th>\n",
       "    </tr>\n",
       "  </thead>\n",
       "  <tbody>\n",
       "    <tr>\n",
       "      <th>0</th>\n",
       "      <td>12.000</td>\n",
       "      <td>1 +\\n                        1</td>\n",
       "      <td>55 m²</td>\n",
       "      <td>25\\n                      Yaşında</td>\n",
       "      <td>Yüksek Giriş</td>\n",
       "      <td>izmir</td>\n",
       "      <td>konak</td>\n",
       "      <td>kilic-reis</td>\n",
       "    </tr>\n",
       "    <tr>\n",
       "      <th>1</th>\n",
       "      <td>16.000</td>\n",
       "      <td>3 +\\n                        1</td>\n",
       "      <td>150 m²</td>\n",
       "      <td>35\\n                      Yaşında</td>\n",
       "      <td>3. Kat</td>\n",
       "      <td>izmir</td>\n",
       "      <td>konak</td>\n",
       "      <td>akin-simav</td>\n",
       "    </tr>\n",
       "    <tr>\n",
       "      <th>2</th>\n",
       "      <td>200</td>\n",
       "      <td>2 +\\n                        1</td>\n",
       "      <td>55 m²</td>\n",
       "      <td>2\\n                      Yaşında</td>\n",
       "      <td>Ara Kat</td>\n",
       "      <td>izmir</td>\n",
       "      <td>buca</td>\n",
       "      <td>adatepe</td>\n",
       "    </tr>\n",
       "    <tr>\n",
       "      <th>3</th>\n",
       "      <td>200</td>\n",
       "      <td>2 +\\n                        1</td>\n",
       "      <td>60 m²</td>\n",
       "      <td>2\\n                      Yaşında</td>\n",
       "      <td>3. Kat</td>\n",
       "      <td>izmir</td>\n",
       "      <td>buca</td>\n",
       "      <td>yaylacik</td>\n",
       "    </tr>\n",
       "    <tr>\n",
       "      <th>4</th>\n",
       "      <td>18.000</td>\n",
       "      <td>3 +\\n                        1</td>\n",
       "      <td>160 m²</td>\n",
       "      <td>27\\n                      Yaşında</td>\n",
       "      <td>3. Kat</td>\n",
       "      <td>izmir</td>\n",
       "      <td>karsiyaka</td>\n",
       "      <td>bahcelievler</td>\n",
       "    </tr>\n",
       "  </tbody>\n",
       "</table>\n",
       "</div>"
      ],
      "text/plain": [
       "  list-view-price                           celly celly 2  \\\n",
       "0          12.000  1 +\\n                        1   55 m²   \n",
       "1          16.000  3 +\\n                        1  150 m²   \n",
       "2             200  2 +\\n                        1   55 m²   \n",
       "3             200  2 +\\n                        1   60 m²   \n",
       "4          18.000  3 +\\n                        1  160 m²   \n",
       "\n",
       "                             celly 3       celly 4   city   district  \\\n",
       "0  25\\n                      Yaşında  Yüksek Giriş  izmir      konak   \n",
       "1  35\\n                      Yaşında        3. Kat  izmir      konak   \n",
       "2   2\\n                      Yaşında       Ara Kat  izmir       buca   \n",
       "3   2\\n                      Yaşında        3. Kat  izmir       buca   \n",
       "4  27\\n                      Yaşında        3. Kat  izmir  karsiyaka   \n",
       "\n",
       "   neighborhood  \n",
       "0    kilic-reis  \n",
       "1    akin-simav  \n",
       "2       adatepe  \n",
       "3      yaylacik  \n",
       "4  bahcelievler  "
      ]
     },
     "execution_count": 117,
     "metadata": {},
     "output_type": "execute_result"
    }
   ],
   "source": [
    "df.head()"
   ]
  },
  {
   "cell_type": "code",
   "execution_count": 118,
   "id": "89f6853d",
   "metadata": {},
   "outputs": [
    {
     "name": "stdout",
     "output_type": "stream",
     "text": [
      "                city     district           neighborhood\n",
      "6213           mugla     koycegiz               gulpinar\n",
      "7769           mugla       ortaca               kemaliye\n",
      "6320           mugla       bodrum                  bitez\n",
      "142            izmir    karsiyaka               bahariye\n",
      "4000  afyonkarahisar       merkez          veysel-karani\n",
      "5315         denizli    pamukkale                kinikli\n",
      "3739          manisa     turgutlu            selvilitepe\n",
      "2294           izmir        cesme            ismet-inonu\n",
      "4424           aydin        didim                 efeler\n",
      "6935           mugla       bodrum                  bitez\n",
      "4352           aydin       efeler                   orta\n",
      "6161           mugla       bodrum                  yahsi\n",
      "6590           mugla       bodrum                karabag\n",
      "913            izmir     menderes  gumuldur-fevzi-cakmak\n",
      "383            izmir   karabaglar           basin-sitesi\n",
      "3769          manisa    yunusemre               muradiye\n",
      "5733           mugla      mentese            emirbeyazit\n",
      "8060           mugla     koycegiz                ulucami\n",
      "2498           izmir        cesme                musalla\n",
      "466            izmir         urla                  ozbek\n",
      "4191           aydin        didim               altinkum\n",
      "8080           mugla       bodrum                 dirmil\n",
      "3773          manisa   sehzadeler          1-anafartalar\n",
      "1026           izmir      bornova                kizilay\n",
      "995            izmir  seferihisar      colak-ibrahim-bey\n",
      "1278           izmir       odemis                  zafer\n",
      "6070           mugla       bodrum                  bitez\n",
      "1114           izmir        konak                goztepe\n",
      "4241           aydin        didim              fevzipasa\n",
      "8132           mugla       bodrum                 golkoy\n",
      "4461           aydin         cine              hamitabat\n",
      "424            izmir        cesme                alacati\n",
      "5274         denizli     saraykoy                ataturk\n",
      "632            izmir   guzelbahce                  yelki\n",
      "6854           mugla        milas                  becin\n",
      "2632           izmir        cesme                 dalyan\n",
      "635            izmir        konak              zafertepe\n",
      "6650           mugla      mentese               orhaniye\n",
      "5377         denizli    pamukkale            kervansaray\n",
      "6324           mugla       bodrum                yenikoy\n",
      "4771           aydin       efeler                   orta\n",
      "2541           izmir      bornova                  inonu\n",
      "113            izmir    narlidere                camtepe\n",
      "3407           izmir      torbali                 pancar\n",
      "1010           izmir         foca             cumhuriyet\n",
      "1134           izmir    karsiyaka                  aksoy\n",
      "4005  afyonkarahisar       merkez                erenler\n",
      "2671           izmir     menderes         gumuldur-inonu\n",
      "1705           izmir       odemis                ataturk\n",
      "1001           izmir        konak               alsancak\n"
     ]
    }
   ],
   "source": [
    "print(df[[\"city\", \"district\", \"neighborhood\"]].sample(50))"
   ]
  },
  {
   "cell_type": "code",
   "execution_count": 119,
   "id": "c3de5407",
   "metadata": {},
   "outputs": [
    {
     "data": {
      "text/plain": [
       "Index(['list-view-price', 'celly', 'celly 2', 'celly 3', 'celly 4', 'city',\n",
       "       'district', 'neighborhood'],\n",
       "      dtype='object')"
      ]
     },
     "execution_count": 119,
     "metadata": {},
     "output_type": "execute_result"
    }
   ],
   "source": [
    "df.columns"
   ]
  },
  {
   "cell_type": "code",
   "execution_count": 120,
   "id": "2c7f233b",
   "metadata": {},
   "outputs": [
    {
     "data": {
      "text/plain": [
       "array(['1 +\\n                        1', '3 +\\n                        1',\n",
       "       '2 +\\n                        1', '4 +\\n                        1',\n",
       "       '4 +\\n                        2', '5 +\\n                        1',\n",
       "       '6 +\\n                        1', '7 +\\n                        1',\n",
       "       '21 +\\n                        1',\n",
       "       '6 +\\n                        2', '5 +\\n                        2',\n",
       "       'Stüdyo', '7 +\\n                        2',\n",
       "       '3 +\\n                        2', '2 +\\n                        0',\n",
       "       '6 +\\n                        0', '9 +\\n                        4',\n",
       "       '9 +\\n                        1', '3 +\\n                        0',\n",
       "       '1 +\\n                        15',\n",
       "       '2 +\\n                        2', '8 +\\n                        1',\n",
       "       '41 +\\n                        4',\n",
       "       '4 +\\n                        0',\n",
       "       '1 +\\n                        25',\n",
       "       '4 +\\n                        4', '3 +\\n                        4',\n",
       "       '1 +\\n                        2', '3 +\\n                        3',\n",
       "       '31 +\\n                        1',\n",
       "       '4 +\\n                        3', '9 +\\n                        5',\n",
       "       '8 +\\n                        4', '4 +\\n                        5',\n",
       "       '9 +\\n                        3',\n",
       "       '25 +\\n                        5',\n",
       "       '8 +\\n                        0', '9 +\\n                        9',\n",
       "       '14 +\\n                        6',\n",
       "       '10 +\\n                        1'], dtype=object)"
      ]
     },
     "execution_count": 120,
     "metadata": {},
     "output_type": "execute_result"
    }
   ],
   "source": [
    "df[\"celly\"].unique()"
   ]
  },
  {
   "cell_type": "code",
   "execution_count": 121,
   "id": "3a5c0e87",
   "metadata": {},
   "outputs": [],
   "source": [
    "df[\"celly\"] = df[\"celly\"].apply(lambda x: x.replace(\"Stüdyo\", \"1 + 0\"))\n",
    "df[\"celly\"] = df[\"celly\"].apply(lambda x: x.replace(\"\\n\", \"\"))\n",
    "df[\"room\"] = df[\"celly\"].apply(lambda x: x.split(\"+\")[0]).astype(int)\n",
    "df[\"living_room\"] = df[\"celly\"].apply(lambda x: x.split(\"+\")[1]).astype(int)"
   ]
  },
  {
   "cell_type": "code",
   "execution_count": 122,
   "id": "b0346725",
   "metadata": {},
   "outputs": [
    {
     "name": "stdout",
     "output_type": "stream",
     "text": [
      "[ 1  3  2  4  5  6  7 21  9  8 41 31 25 14 10]\n",
      "[ 1  2  0  4 15 25  3  5  9  6]\n"
     ]
    }
   ],
   "source": [
    "print(df[\"room\"].unique())\n",
    "print(df[\"living_room\"].unique())"
   ]
  },
  {
   "cell_type": "code",
   "execution_count": 123,
   "id": "62c3e928",
   "metadata": {},
   "outputs": [],
   "source": [
    "df.drop(\"celly\", axis=1, inplace=True)"
   ]
  },
  {
   "cell_type": "code",
   "execution_count": 124,
   "id": "b60ef38e",
   "metadata": {},
   "outputs": [
    {
     "name": "stdout",
     "output_type": "stream",
     "text": [
      "<class 'pandas.core.frame.DataFrame'>\n",
      "RangeIndex: 8136 entries, 0 to 8135\n",
      "Data columns (total 9 columns):\n",
      " #   Column           Non-Null Count  Dtype \n",
      "---  ------           --------------  ----- \n",
      " 0   list-view-price  8136 non-null   object\n",
      " 1   celly 2          8136 non-null   object\n",
      " 2   celly 3          8136 non-null   object\n",
      " 3   celly 4          6858 non-null   object\n",
      " 4   city             8136 non-null   object\n",
      " 5   district         8136 non-null   object\n",
      " 6   neighborhood     8136 non-null   object\n",
      " 7   room             8136 non-null   int32 \n",
      " 8   living_room      8136 non-null   int32 \n",
      "dtypes: int32(2), object(7)\n",
      "memory usage: 508.6+ KB\n"
     ]
    }
   ],
   "source": [
    "df.info()"
   ]
  },
  {
   "cell_type": "code",
   "execution_count": 125,
   "id": "10146225",
   "metadata": {},
   "outputs": [
    {
     "data": {
      "text/plain": [
       "array(['55 m²', '150 m²', '60 m²', '160 m²', '135 m²', '67 m²', '140 m²',\n",
       "       '170 m²', '130 m²', '230 m²', '220 m²', '210 m²', '89 m²',\n",
       "       '120 m²', '200 m²', '355 m²', '75 m²', '110 m²', '100 m²', '65 m²',\n",
       "       '145 m²', '115 m²', '1.000 m²', '250 m²', '105 m²', '50 m²',\n",
       "       '87 m²', '90 m²', '85 m²', '155 m²', '275 m²', '240 m²', '95 m²',\n",
       "       '174 m²', '80 m²', '125 m²', '180 m²', '165 m²', '350 m²', '97 m²',\n",
       "       '45 m²', '300 m²', '84 m²', '42 m²', '98 m²', '86 m²', '500 m²',\n",
       "       '70 m²', '51 m²', '73 m²', '132 m²', '325 m²', '141 m²', '450 m²',\n",
       "       '600 m²', '47 m²', '72 m²', '71 m²', '3.000 m²', '175 m²',\n",
       "       '320 m²', '280 m²', '156 m²', '190 m²', '78 m²', '162 m²',\n",
       "       '185 m²', '18 m²', '330 m²', '151 m²', '56 m²', '136 m²', '131 m²',\n",
       "       '48 m²', '580 m²', '119 m²', '147 m²', '77 m²', '245 m²', '35 m²',\n",
       "       '375 m²', '146 m²', '161 m²', '163 m²', '149 m²', '206 m²',\n",
       "       '138 m²', '93 m²', '63 m²', '41 m²', '183 m²', '96 m²', '108 m²',\n",
       "       '76 m²', '475 m²', '359 m²', '124 m²', '91 m²', '194 m²', '43 m²',\n",
       "       '4.500 m²', '68 m²', '205 m²', '20 m²', '103 m²', '53 m²',\n",
       "       '270 m²', '58 m²', '302 m²', '505 m²', '800 m²', '168 m²',\n",
       "       '154 m²', '368 m²', '178 m²', '40 m²', '750 m²', '92 m²', '181 m²',\n",
       "       '400 m²', '30 m²', '260 m²', '460 m²', '390 m²', '64 m²', '360 m²',\n",
       "       '340 m²', '550 m²', '38 m²', '121 m²', '4.000 m²', '295 m²',\n",
       "       '112 m²', '137 m²', '22 m²', '128 m²', '3.200 m²', '440 m²',\n",
       "       '122 m²', '370 m²', '380 m²', '204 m²', '148 m²', '142 m²',\n",
       "       '520 m²', '166 m²', '870 m²', '143 m²', '57 m²', '286 m²', '81 m²',\n",
       "       '116 m²', '209 m²', '59 m²', '106 m²', '74 m²', '1.301 m²',\n",
       "       '52 m²', '167 m²', '217 m²', '25 m²', '290 m²', '196 m²', '184 m²',\n",
       "       '159 m²', '195 m²', '640 m²', '285 m²', '235 m²', '337 m²',\n",
       "       '211 m²', '134 m²', '832 m²', '152 m²', '88 m²', '213 m²',\n",
       "       '126 m²', '255 m²', '199 m²', '127 m²', '11 m²', '66 m²', '399 m²',\n",
       "       '187 m²', '341 m²', '745 m²', '118 m²', '144 m²', '15 m²',\n",
       "       '535 m²', '5.500 m²', '114 m²', '208 m²', '94 m²', '46 m²',\n",
       "       '173 m²', '900 m²', '225 m²', '402 m²', '111 m²', '193 m²',\n",
       "       '1.100 m²', '212 m²', '102 m²', '177 m²', '101 m²', '164 m²',\n",
       "       '158 m²', '62 m²', '172 m²', '9.000 m²', '21 m²', '117 m²',\n",
       "       '82 m²', '49 m²', '176 m²', '182 m²', '981 m²', '256 m²', '32 m²',\n",
       "       '3.510 m²', '215 m²', '1.057 m²', '171 m²', '79 m²', '169 m²',\n",
       "       '28 m²', '104 m²', '201 m²', '310 m²', '1.150 m²', '2.000 m²',\n",
       "       '228 m²', '700 m²', '349 m²', '203 m²', '510 m²', '31 m²', '33 m²',\n",
       "       '950 m²', '650 m²', '252 m²', '493 m²', '265 m²', '1.400 m²',\n",
       "       '5 m²', '113 m²', '36 m²', '317 m²', '850 m²', '249 m²', '109 m²',\n",
       "       '420 m²', '995 m²', '545 m²', '192 m²', '1.250 m²', '490 m²',\n",
       "       '760 m²', '157 m²', '54 m²', '405 m²', '99 m²'], dtype=object)"
      ]
     },
     "execution_count": 125,
     "metadata": {},
     "output_type": "execute_result"
    }
   ],
   "source": [
    "df[\"celly 2\"].unique()"
   ]
  },
  {
   "cell_type": "code",
   "execution_count": 126,
   "id": "fec8bcb0",
   "metadata": {},
   "outputs": [],
   "source": [
    "df[\"celly 2\"] = df[\"celly 2\"].apply(lambda x: x.replace(\".\", \"\"))\n",
    "df[\"area\"] = df[\"celly 2\"].apply(lambda x: x.split(\" \")[0]).astype(int)"
   ]
  },
  {
   "cell_type": "code",
   "execution_count": 127,
   "id": "f1d8e03e",
   "metadata": {},
   "outputs": [
    {
     "data": {
      "text/plain": [
       "array([  55,  150,   60,  160,  135,   67,  140,  170,  130,  230,  220,\n",
       "        210,   89,  120,  200,  355,   75,  110,  100,   65,  145,  115,\n",
       "       1000,  250,  105,   50,   87,   90,   85,  155,  275,  240,   95,\n",
       "        174,   80,  125,  180,  165,  350,   97,   45,  300,   84,   42,\n",
       "         98,   86,  500,   70,   51,   73,  132,  325,  141,  450,  600,\n",
       "         47,   72,   71, 3000,  175,  320,  280,  156,  190,   78,  162,\n",
       "        185,   18,  330,  151,   56,  136,  131,   48,  580,  119,  147,\n",
       "         77,  245,   35,  375,  146,  161,  163,  149,  206,  138,   93,\n",
       "         63,   41,  183,   96,  108,   76,  475,  359,  124,   91,  194,\n",
       "         43, 4500,   68,  205,   20,  103,   53,  270,   58,  302,  505,\n",
       "        800,  168,  154,  368,  178,   40,  750,   92,  181,  400,   30,\n",
       "        260,  460,  390,   64,  360,  340,  550,   38,  121, 4000,  295,\n",
       "        112,  137,   22,  128, 3200,  440,  122,  370,  380,  204,  148,\n",
       "        142,  520,  166,  870,  143,   57,  286,   81,  116,  209,   59,\n",
       "        106,   74, 1301,   52,  167,  217,   25,  290,  196,  184,  159,\n",
       "        195,  640,  285,  235,  337,  211,  134,  832,  152,   88,  213,\n",
       "        126,  255,  199,  127,   11,   66,  399,  187,  341,  745,  118,\n",
       "        144,   15,  535, 5500,  114,  208,   94,   46,  173,  900,  225,\n",
       "        402,  111,  193, 1100,  212,  102,  177,  101,  164,  158,   62,\n",
       "        172, 9000,   21,  117,   82,   49,  176,  182,  981,  256,   32,\n",
       "       3510,  215, 1057,  171,   79,  169,   28,  104,  201,  310, 1150,\n",
       "       2000,  228,  700,  349,  203,  510,   31,   33,  950,  650,  252,\n",
       "        493,  265, 1400,    5,  113,   36,  317,  850,  249,  109,  420,\n",
       "        995,  545,  192, 1250,  490,  760,  157,   54,  405,   99])"
      ]
     },
     "execution_count": 127,
     "metadata": {},
     "output_type": "execute_result"
    }
   ],
   "source": [
    "df[\"area\"].unique()"
   ]
  },
  {
   "cell_type": "code",
   "execution_count": 128,
   "id": "789533cc",
   "metadata": {},
   "outputs": [],
   "source": [
    "df.drop([\"celly 2\"], axis=1, inplace=True)"
   ]
  },
  {
   "cell_type": "code",
   "execution_count": 129,
   "id": "050f0d2e",
   "metadata": {},
   "outputs": [
    {
     "name": "stdout",
     "output_type": "stream",
     "text": [
      "<class 'pandas.core.frame.DataFrame'>\n",
      "RangeIndex: 8136 entries, 0 to 8135\n",
      "Data columns (total 9 columns):\n",
      " #   Column           Non-Null Count  Dtype \n",
      "---  ------           --------------  ----- \n",
      " 0   list-view-price  8136 non-null   object\n",
      " 1   celly 3          8136 non-null   object\n",
      " 2   celly 4          6858 non-null   object\n",
      " 3   city             8136 non-null   object\n",
      " 4   district         8136 non-null   object\n",
      " 5   neighborhood     8136 non-null   object\n",
      " 6   room             8136 non-null   int32 \n",
      " 7   living_room      8136 non-null   int32 \n",
      " 8   area             8136 non-null   int32 \n",
      "dtypes: int32(3), object(6)\n",
      "memory usage: 476.8+ KB\n"
     ]
    }
   ],
   "source": [
    "df.info()"
   ]
  },
  {
   "cell_type": "code",
   "execution_count": 130,
   "id": "68df79e0",
   "metadata": {},
   "outputs": [
    {
     "data": {
      "text/plain": [
       "array(['25\\n                      Yaşında',\n",
       "       '35\\n                      Yaşında',\n",
       "       '2\\n                      Yaşında',\n",
       "       '27\\n                      Yaşında',\n",
       "       '15\\n                      Yaşında',\n",
       "       '10\\n                      Yaşında',\n",
       "       '20\\n                      Yaşında',\n",
       "       '30\\n                      Yaşında',\n",
       "       '16\\n                      Yaşında',\n",
       "       '11\\n                      Yaşında',\n",
       "       '31\\n                      Yaşında', 'Sıfır Bina',\n",
       "       '5\\n                      Yaşında',\n",
       "       '26\\n                      Yaşında',\n",
       "       '12\\n                      Yaşında',\n",
       "       '4\\n                      Yaşında',\n",
       "       '6\\n                      Yaşında',\n",
       "       '22\\n                      Yaşında',\n",
       "       '23\\n                      Yaşında',\n",
       "       '29\\n                      Yaşında',\n",
       "       '3\\n                      Yaşında',\n",
       "       '8\\n                      Yaşında',\n",
       "       '33\\n                      Yaşında',\n",
       "       '50\\n                      Yaşında',\n",
       "       '7\\n                      Yaşında',\n",
       "       '18\\n                      Yaşında',\n",
       "       '32\\n                      Yaşında',\n",
       "       '28\\n                      Yaşında',\n",
       "       '14\\n                      Yaşında',\n",
       "       '40\\n                      Yaşında',\n",
       "       '9\\n                      Yaşında',\n",
       "       '21\\n                      Yaşında',\n",
       "       '45\\n                      Yaşında',\n",
       "       '38\\n                      Yaşında',\n",
       "       '19\\n                      Yaşında',\n",
       "       '24\\n                      Yaşında',\n",
       "       '17\\n                      Yaşında',\n",
       "       '1\\n                      Yaşında',\n",
       "       '36\\n                      Yaşında',\n",
       "       '34\\n                      Yaşında',\n",
       "       '13\\n                      Yaşında',\n",
       "       '42\\n                      Yaşında',\n",
       "       '44\\n                      Yaşında',\n",
       "       '43\\n                      Yaşında',\n",
       "       '37\\n                      Yaşında',\n",
       "       '55\\n                      Yaşında',\n",
       "       '47\\n                      Yaşında',\n",
       "       '39\\n                      Yaşında',\n",
       "       '49\\n                      Yaşında',\n",
       "       '52\\n                      Yaşında',\n",
       "       '300\\n                      Yaşında',\n",
       "       '199\\n                      Yaşında',\n",
       "       '48\\n                      Yaşında',\n",
       "       '60\\n                      Yaşında',\n",
       "       '61\\n                      Yaşında',\n",
       "       '600\\n                      Yaşında',\n",
       "       '100\\n                      Yaşında'], dtype=object)"
      ]
     },
     "execution_count": 130,
     "metadata": {},
     "output_type": "execute_result"
    }
   ],
   "source": [
    "df[\"celly 3\"].unique()"
   ]
  },
  {
   "cell_type": "code",
   "execution_count": 131,
   "id": "a8d5142f",
   "metadata": {},
   "outputs": [],
   "source": [
    "df[\"celly 3\"] = df[\"celly 3\"].apply(lambda x: x.replace(\"Sıfır Bina\", \"0 Yaşında\"))\n",
    "df[\"celly 3\"] = df[\"celly 3\"].apply(lambda x: x.replace(\"\\n\", \" \"))\n",
    "df[\"age\"] = df[\"celly 3\"].apply(lambda x: x.split(\" \")[0]).astype(int)"
   ]
  },
  {
   "cell_type": "code",
   "execution_count": 132,
   "id": "d05249b7",
   "metadata": {},
   "outputs": [
    {
     "data": {
      "text/plain": [
       "array([ 25,  35,   2,  27,  15,  10,  20,  30,  16,  11,  31,   0,   5,\n",
       "        26,  12,   4,   6,  22,  23,  29,   3,   8,  33,  50,   7,  18,\n",
       "        32,  28,  14,  40,   9,  21,  45,  38,  19,  24,  17,   1,  36,\n",
       "        34,  13,  42,  44,  43,  37,  55,  47,  39,  49,  52, 300, 199,\n",
       "        48,  60,  61, 600, 100])"
      ]
     },
     "execution_count": 132,
     "metadata": {},
     "output_type": "execute_result"
    }
   ],
   "source": [
    "df[\"age\"].unique()"
   ]
  },
  {
   "cell_type": "code",
   "execution_count": 133,
   "id": "08571f63",
   "metadata": {},
   "outputs": [],
   "source": [
    "df.drop(\"celly 3\", axis=1, inplace=True)"
   ]
  },
  {
   "cell_type": "code",
   "execution_count": 134,
   "id": "872c64fb",
   "metadata": {},
   "outputs": [
    {
     "name": "stdout",
     "output_type": "stream",
     "text": [
      "<class 'pandas.core.frame.DataFrame'>\n",
      "RangeIndex: 8136 entries, 0 to 8135\n",
      "Data columns (total 9 columns):\n",
      " #   Column           Non-Null Count  Dtype \n",
      "---  ------           --------------  ----- \n",
      " 0   list-view-price  8136 non-null   object\n",
      " 1   celly 4          6858 non-null   object\n",
      " 2   city             8136 non-null   object\n",
      " 3   district         8136 non-null   object\n",
      " 4   neighborhood     8136 non-null   object\n",
      " 5   room             8136 non-null   int32 \n",
      " 6   living_room      8136 non-null   int32 \n",
      " 7   area             8136 non-null   int32 \n",
      " 8   age              8136 non-null   int32 \n",
      "dtypes: int32(4), object(5)\n",
      "memory usage: 445.1+ KB\n"
     ]
    }
   ],
   "source": [
    "df.info()"
   ]
  },
  {
   "cell_type": "code",
   "execution_count": 135,
   "id": "9a010482",
   "metadata": {},
   "outputs": [
    {
     "data": {
      "text/plain": [
       "1278"
      ]
     },
     "execution_count": 135,
     "metadata": {},
     "output_type": "execute_result"
    }
   ],
   "source": [
    "df[\"celly 4\"].isnull().sum()"
   ]
  },
  {
   "cell_type": "code",
   "execution_count": 136,
   "id": "572087a5",
   "metadata": {},
   "outputs": [
    {
     "data": {
      "text/plain": [
       "array(['Yüksek Giriş', '3. Kat', 'Ara Kat', '4. Kat', '2. Kat', 'Zemin',\n",
       "       nan, 'Tripleks', 'Villa Katı', 'Bahçe Katı', '1. Kat', '8. Kat',\n",
       "       '6. Kat', 'Giriş Katı', '5. Kat', '7. Kat', '21 ve üzeri',\n",
       "       'En Üst Kat', 'Teras Katı', '13. Kat', 'Kot 1', '9. Kat',\n",
       "       'Çatı Katı', '10. Kat', '12. Kat', 'Kot 2', '15. Kat',\n",
       "       'Bodrum ve Zemin', '11. Kat', 'Kot 3', '18. Kat', '20. Kat',\n",
       "       'Yarı Bodrum', '14. Kat', '16. Kat', '17. Kat', 'Asma Kat',\n",
       "       'Bodrum', '19. Kat'], dtype=object)"
      ]
     },
     "execution_count": 136,
     "metadata": {},
     "output_type": "execute_result"
    }
   ],
   "source": [
    "df[\"celly 4\"].unique()"
   ]
  },
  {
   "cell_type": "code",
   "execution_count": 138,
   "id": "bbc3252b",
   "metadata": {},
   "outputs": [],
   "source": [
    "replace_dict = {\n",
    "    'Kot 2': '-2. Kat',\n",
    "    'Kot 1': '-1. Kat',\n",
    "    'Yüksek Giriş': '1. Kat',\n",
    "    'Ara Kat': '3. Kat',\n",
    "    'En Üst Kat': '5. Kat',\n",
    "    'Bahçe Katı': '0. Kat',\n",
    "    'Yarı Bodrum': '0. Kat',\n",
    "    'Bodrum': '0. Kat',\n",
    "    'Kot 3': '-3. Kat',\n",
    "    'Çatı Katı': '5. Kat',\n",
    "    'Zemin': '0. Kat',\n",
    "    'Giriş Katı': '0. Kat',\n",
    "    'Villa Katı': '0. Kat',\n",
    "    '21 ve üzeri': '21. Kat',\n",
    "    'Bodrum ve Zemin': '0. Kat',\n",
    "    'Asma Kat': '1. Kat',\n",
    "    'Tripleks': '0. Kat',\n",
    "    'Teras Katı': '5. Kat',\n",
    "    'nan': '2. Kat',\n",
    "}\n",
    "df[\"celly 4\"] = df[\"celly 4\"].replace(replace_dict.keys(), replace_dict.values()).astype(str)\n",
    "df[\"celly 4\"].dropna(inplace=True)\n",
    "df[\"floor\"] = df[\"celly 4\"].apply(lambda x: x.split(\".\")[0]).astype(int)"
   ]
  },
  {
   "cell_type": "code",
   "execution_count": 139,
   "id": "6185f4c5",
   "metadata": {},
   "outputs": [
    {
     "data": {
      "text/plain": [
       "array([ 1,  3,  4,  2,  0,  8,  6,  5,  7, 21, 13, -1,  9, 10, 12, -2, 15,\n",
       "       11, -3, 18, 20, 14, 16, 17, 19])"
      ]
     },
     "execution_count": 139,
     "metadata": {},
     "output_type": "execute_result"
    }
   ],
   "source": [
    "df[\"floor\"].unique()"
   ]
  },
  {
   "cell_type": "code",
   "execution_count": 140,
   "id": "ecc4c273",
   "metadata": {},
   "outputs": [],
   "source": [
    "df.drop(\"celly 4\", axis=1, inplace=True)"
   ]
  },
  {
   "cell_type": "code",
   "execution_count": 141,
   "id": "177d6de3",
   "metadata": {},
   "outputs": [
    {
     "name": "stdout",
     "output_type": "stream",
     "text": [
      "<class 'pandas.core.frame.DataFrame'>\n",
      "RangeIndex: 8136 entries, 0 to 8135\n",
      "Data columns (total 9 columns):\n",
      " #   Column           Non-Null Count  Dtype \n",
      "---  ------           --------------  ----- \n",
      " 0   list-view-price  8136 non-null   object\n",
      " 1   city             8136 non-null   object\n",
      " 2   district         8136 non-null   object\n",
      " 3   neighborhood     8136 non-null   object\n",
      " 4   room             8136 non-null   int32 \n",
      " 5   living_room      8136 non-null   int32 \n",
      " 6   area             8136 non-null   int32 \n",
      " 7   age              8136 non-null   int32 \n",
      " 8   floor            8136 non-null   int32 \n",
      "dtypes: int32(5), object(4)\n",
      "memory usage: 413.3+ KB\n"
     ]
    }
   ],
   "source": [
    "df.info()"
   ]
  },
  {
   "cell_type": "code",
   "execution_count": 143,
   "id": "4e8d54a2",
   "metadata": {},
   "outputs": [
    {
     "name": "stdout",
     "output_type": "stream",
     "text": [
      "<class 'pandas.core.frame.DataFrame'>\n",
      "RangeIndex: 8136 entries, 0 to 8135\n",
      "Data columns (total 9 columns):\n",
      " #   Column           Non-Null Count  Dtype \n",
      "---  ------           --------------  ----- \n",
      " 0   list-view-price  8136 non-null   object\n",
      " 1   city             8136 non-null   object\n",
      " 2   district         8136 non-null   object\n",
      " 3   neighborhood     8136 non-null   object\n",
      " 4   room             8136 non-null   int32 \n",
      " 5   living_room      8136 non-null   int32 \n",
      " 6   area             8136 non-null   int32 \n",
      " 7   age              8136 non-null   int32 \n",
      " 8   floor            8136 non-null   int32 \n",
      "dtypes: int32(5), object(4)\n",
      "memory usage: 413.3+ KB\n"
     ]
    }
   ],
   "source": [
    "df.info()"
   ]
  },
  {
   "cell_type": "code",
   "execution_count": 144,
   "id": "b94daf6f",
   "metadata": {},
   "outputs": [
    {
     "data": {
      "text/plain": [
       "array(['12.000', '16.000', '200', '18.000', '45.000', '35.000', '25.000',\n",
       "       '22.000', '15.000', '24.000', '240.000', '1.200.000', '30.000',\n",
       "       '20.000', '180.000', '60.000', '10.500', '10.000', '55.000',\n",
       "       '13.000', '12.500', '21.000', '250.000', '190.000', '42.500',\n",
       "       '17.000', '11.000', '450.000', '27.500', '80.000', '23.000',\n",
       "       '550.000', '19.750', '75.000', '50.000', '34.000', '19.500',\n",
       "       '28.500', '24.500', '325.000', '28.000', '29.000', '750.000',\n",
       "       '600.000', '16.750', '500.000', '14.000', '220.000', '19.000',\n",
       "       '21.500', '350.000', '9.000', '14.500', '25.500', '18.500',\n",
       "       '300.000', '480.000', '150.000', '5.000', '16.500', '525.000',\n",
       "       '370.000', '13.750', '17.500', '27.000', '11.500', '200.000',\n",
       "       '90.000', '64.000', '15.750', '118.000', '1.000.000', '400.000',\n",
       "       '70.000', '13.500', '210.000', '38.000', '1.800.000', '31.500',\n",
       "       '57.500', '49.900', '2.000', '4.875.000', '8.500', '700.000',\n",
       "       '15.250', '7.000', '40.000', '18.750', '22.500', '1.250.000',\n",
       "       '3.500', '32.000', '104.000', '1.600.000', '120.000', '20.500',\n",
       "       '650.000', '65.000', '48.000', '850.000', '17.250', '48.500',\n",
       "       '100.000', '22.500.000', '115.000', '57.000', '53.000', '66.000',\n",
       "       '12.950', '62.000', '265.000', '18.250', '185.000', '41.000',\n",
       "       '110.000', '26.900', '17.750', '62.500', '130.000', '7.500',\n",
       "       '33.000', '29.999', '14.750', '37.000', '16.200', '275.000',\n",
       "       '26.000', '8.000', '375.000', '8.250', '39.500', '98.500',\n",
       "       '46.000', '28.900', '9.250', '58.000', '15.900', '10.757',\n",
       "       '85.000', '10.750', '1.400.000', '175.000', '460.000', '29.500',\n",
       "       '13.250', '20.999', '31.000', '9.500', '15.500', '56.000',\n",
       "       '14.700', '269.900', '14.100', '530.000', '16.250', '49.000',\n",
       "       '36.500', '225.000', '6.500', '17.950', '10.900', '8.750',\n",
       "       '620.000', '140.000', '9.750', '125.000', '24.750', '2.550.000',\n",
       "       '1.000', '6.000', '95.000', '37.500', '7.250', '43.000', '5.500',\n",
       "       '83.000', '380.000', '280.000', '350', '4.500', '800.000',\n",
       "       '39.000', '21.750', '235.000', '96.000', '1.100.000', '425.000',\n",
       "       '52.500', '19.360', '4.000', '9.800', '680.000', '15.590.000',\n",
       "       '34.500', '170.000', '26.500', '18.450', '1.650.000', '23.500',\n",
       "       '365.000', '36.000', '10.400', '10.999', '160.000', '7.950',\n",
       "       '785.000', '2.250.000', '260.000', '13.900.000', '165.000',\n",
       "       '2.500', '290.000', '300', '475.000', '9.999', '9.200', '330.000',\n",
       "       '2.265.000', '590.000', '23', '29.750', '14.250', '1.050.000',\n",
       "       '1.750.000', '415.000', '430.000', '11.111', '720.000', '625.000',\n",
       "       '1.350.000', '15.950', '14.999', '195.000', '8.000.000',\n",
       "       '1.025.000', '67.000', '900.000', '1.500', '14.990', '950.000',\n",
       "       '270.000', '3.000', '10.800', '13.950', '780.000', '320.000',\n",
       "       '1.250', '63.000', '1.200', '675.000', '8.950', '760.000',\n",
       "       '420.000', '13', '67.500', '12', '26.750', '4.950', '440.000',\n",
       "       '15', '390.000', '1.725.000', '7.800', '7.750', '12.750',\n",
       "       '16.500.000', '11.250', '7.900', '12.850', '11.750', 7.5, 4.5,\n",
       "       10.0, 8.0, 19.0, 6.5, 18.5, 9.5, 7.0, 12.0, 6.0, 8.5, 15.0, 9.0,\n",
       "       7.75, 6.75, 16.5, 20.0, 22.0, 7.25, 21.0, 14.0, '4.250', '5.250',\n",
       "       '6.750', '6.600', '5.100', '5.600', '9.850', '26.000.000', '3.400',\n",
       "       '14.300', '8.700', '9.950.000', '120.000.000', '111', '11',\n",
       "       '890.000', '42.000', '4.650.000', '1.700', '8.550', '8.900',\n",
       "       '7.200', '3.500.000', '11.900', '1.190.000', '1.840.000', '6.250',\n",
       "       '8.100', '750', '7.999', '3.999', '6.900', '5.750', '7.400',\n",
       "       '6.999', '1.850.000', '7.100', '6.800', '5.700', '9.900', '4.999',\n",
       "       '4.750', '5.999', '8.400', '8.300', '44.000', '740.000',\n",
       "       '2.500.000', '360.000', '105.000', '355.000', '255.000', '72.000',\n",
       "       '1', '485.000', '285.000', '59.500', '245.000', '4.050.000',\n",
       "       '135.000', '32.500', '510.000', '1.225.000', '3.900.000', '3.250',\n",
       "       '30.000.000', '39.900', '243.000', '2.300.000', '25.000.000',\n",
       "       '49.950', '73.000', '840.000', '2.275.000', '410.000', '310.000',\n",
       "       '7.300', '32.750', '3.750', '3.000.000', '1.700.000', '1.150.000',\n",
       "       '2.750', '4.100', '16.350', '17.000.000', '921.180', '145.000',\n",
       "       '41.600', '495.000', '65.500', '2.250', '595.000', '19.800',\n",
       "       '54.000', '50.000.000', '48.000.000', '465.000', '860.000',\n",
       "       '630.000', '995.000', '241.800', '340.000', '4.450.000',\n",
       "       '6.500.000', '2.175.000', '2.000.000', '2.200.000', '6.150.000',\n",
       "       '16.400', '295.000', '1.070.000', '87.000', '1.750', '875.000',\n",
       "       '560.000', '3.250.000', '790.000'], dtype=object)"
      ]
     },
     "execution_count": 144,
     "metadata": {},
     "output_type": "execute_result"
    }
   ],
   "source": [
    "df[\"list-view-price\"].unique()"
   ]
  },
  {
   "cell_type": "code",
   "execution_count": 145,
   "id": "2df199d0",
   "metadata": {},
   "outputs": [],
   "source": [
    "df[\"list-view-price\"] = df[\"list-view-price\"].astype(str).apply(lambda x: x.replace(\".\", \"\"))\n",
    "df[\"price\"] = df[\"list-view-price\"].astype(int)"
   ]
  },
  {
   "cell_type": "code",
   "execution_count": 146,
   "id": "c330205a",
   "metadata": {},
   "outputs": [
    {
     "data": {
      "text/plain": [
       "array([    12000,     16000,       200,     18000,     45000,     35000,\n",
       "           25000,     22000,     15000,     24000,    240000,   1200000,\n",
       "           30000,     20000,    180000,     60000,     10500,     10000,\n",
       "           55000,     13000,     12500,     21000,    250000,    190000,\n",
       "           42500,     17000,     11000,    450000,     27500,     80000,\n",
       "           23000,    550000,     19750,     75000,     50000,     34000,\n",
       "           19500,     28500,     24500,    325000,     28000,     29000,\n",
       "          750000,    600000,     16750,    500000,     14000,    220000,\n",
       "           19000,     21500,    350000,      9000,     14500,     25500,\n",
       "           18500,    300000,    480000,    150000,      5000,     16500,\n",
       "          525000,    370000,     13750,     17500,     27000,     11500,\n",
       "          200000,     90000,     64000,     15750,    118000,   1000000,\n",
       "          400000,     70000,     13500,    210000,     38000,   1800000,\n",
       "           31500,     57500,     49900,      2000,   4875000,      8500,\n",
       "          700000,     15250,      7000,     40000,     18750,     22500,\n",
       "         1250000,      3500,     32000,    104000,   1600000,    120000,\n",
       "           20500,    650000,     65000,     48000,    850000,     17250,\n",
       "           48500,    100000,  22500000,    115000,     57000,     53000,\n",
       "           66000,     12950,     62000,    265000,     18250,    185000,\n",
       "           41000,    110000,     26900,     17750,     62500,    130000,\n",
       "            7500,     33000,     29999,     14750,     37000,     16200,\n",
       "          275000,     26000,      8000,    375000,      8250,     39500,\n",
       "           98500,     46000,     28900,      9250,     58000,     15900,\n",
       "           10757,     85000,     10750,   1400000,    175000,    460000,\n",
       "           29500,     13250,     20999,     31000,      9500,     15500,\n",
       "           56000,     14700,    269900,     14100,    530000,     16250,\n",
       "           49000,     36500,    225000,      6500,     17950,     10900,\n",
       "            8750,    620000,    140000,      9750,    125000,     24750,\n",
       "         2550000,      1000,      6000,     95000,     37500,      7250,\n",
       "           43000,      5500,     83000,    380000,    280000,       350,\n",
       "            4500,    800000,     39000,     21750,    235000,     96000,\n",
       "         1100000,    425000,     52500,     19360,      4000,      9800,\n",
       "          680000,  15590000,     34500,    170000,     26500,     18450,\n",
       "         1650000,     23500,    365000,     36000,     10400,     10999,\n",
       "          160000,      7950,    785000,   2250000,    260000,  13900000,\n",
       "          165000,      2500,    290000,       300,    475000,      9999,\n",
       "            9200,    330000,   2265000,    590000,        23,     29750,\n",
       "           14250,   1050000,   1750000,    415000,    430000,     11111,\n",
       "          720000,    625000,   1350000,     15950,     14999,    195000,\n",
       "         8000000,   1025000,     67000,    900000,      1500,     14990,\n",
       "          950000,    270000,      3000,     10800,     13950,    780000,\n",
       "          320000,      1250,     63000,      1200,    675000,      8950,\n",
       "          760000,    420000,        13,     67500,        12,     26750,\n",
       "            4950,    440000,        15,    390000,   1725000,      7800,\n",
       "            7750,     12750,  16500000,     11250,      7900,     12850,\n",
       "           11750,        75,        45,       100,        80,       190,\n",
       "              65,       185,        95,        70,       120,        60,\n",
       "              85,       150,        90,       775,       675,       165,\n",
       "             220,       725,       210,       140,      4250,      5250,\n",
       "            6750,      6600,      5100,      5600,      9850,  26000000,\n",
       "            3400,     14300,      8700,   9950000, 120000000,       111,\n",
       "              11,    890000,     42000,   4650000,      1700,      8550,\n",
       "            8900,      7200,   3500000,     11900,   1190000,   1840000,\n",
       "            6250,      8100,       750,      7999,      3999,      6900,\n",
       "            5750,      7400,      6999,   1850000,      7100,      6800,\n",
       "            5700,      9900,      4999,      4750,      5999,      8400,\n",
       "            8300,     44000,    740000,   2500000,    360000,    105000,\n",
       "          355000,    255000,     72000,         1,    485000,    285000,\n",
       "           59500,    245000,   4050000,    135000,     32500,    510000,\n",
       "         1225000,   3900000,      3250,  30000000,     39900,    243000,\n",
       "         2300000,  25000000,     49950,     73000,    840000,   2275000,\n",
       "          410000,    310000,      7300,     32750,      3750,   3000000,\n",
       "         1700000,   1150000,      2750,      4100,     16350,  17000000,\n",
       "          921180,    145000,     41600,    495000,     65500,      2250,\n",
       "          595000,     19800,     54000,  50000000,  48000000,    465000,\n",
       "          860000,    630000,    995000,    241800,    340000,   4450000,\n",
       "         6500000,   2175000,   2000000,   2200000,   6150000,     16400,\n",
       "          295000,   1070000,     87000,      1750,    875000,    560000,\n",
       "         3250000,    790000])"
      ]
     },
     "execution_count": 146,
     "metadata": {},
     "output_type": "execute_result"
    }
   ],
   "source": [
    "df[\"price\"].unique()"
   ]
  },
  {
   "cell_type": "code",
   "execution_count": 147,
   "id": "4b972e25",
   "metadata": {},
   "outputs": [],
   "source": [
    "drop_columns(df, [\"list-view-price\"])"
   ]
  },
  {
   "cell_type": "code",
   "execution_count": 148,
   "id": "0b11af4e",
   "metadata": {},
   "outputs": [
    {
     "data": {
      "text/plain": [
       "Index(['city', 'district', 'neighborhood', 'room', 'living_room', 'area',\n",
       "       'age', 'floor', 'price'],\n",
       "      dtype='object')"
      ]
     },
     "execution_count": 148,
     "metadata": {},
     "output_type": "execute_result"
    }
   ],
   "source": [
    "df.columns"
   ]
  },
  {
   "cell_type": "code",
   "execution_count": 149,
   "id": "a07c06ba",
   "metadata": {},
   "outputs": [
    {
     "name": "stdout",
     "output_type": "stream",
     "text": [
      "<class 'pandas.core.frame.DataFrame'>\n",
      "RangeIndex: 8136 entries, 0 to 8135\n",
      "Data columns (total 9 columns):\n",
      " #   Column        Non-Null Count  Dtype \n",
      "---  ------        --------------  ----- \n",
      " 0   city          8136 non-null   object\n",
      " 1   district      8136 non-null   object\n",
      " 2   neighborhood  8136 non-null   object\n",
      " 3   room          8136 non-null   int32 \n",
      " 4   living_room   8136 non-null   int32 \n",
      " 5   area          8136 non-null   int32 \n",
      " 6   age           8136 non-null   int32 \n",
      " 7   floor         8136 non-null   int32 \n",
      " 8   price         8136 non-null   int32 \n",
      "dtypes: int32(6), object(3)\n",
      "memory usage: 381.5+ KB\n"
     ]
    }
   ],
   "source": [
    "df.info()"
   ]
  },
  {
   "cell_type": "code",
   "execution_count": 150,
   "id": "9e0d631f",
   "metadata": {},
   "outputs": [],
   "source": [
    "df.to_csv(\"data.csv\", index=False)"
   ]
  }
 ],
 "metadata": {
  "kernelspec": {
   "display_name": "base",
   "language": "python",
   "name": "python3"
  },
  "language_info": {
   "codemirror_mode": {
    "name": "ipython",
    "version": 3
   },
   "file_extension": ".py",
   "mimetype": "text/x-python",
   "name": "python",
   "nbconvert_exporter": "python",
   "pygments_lexer": "ipython3",
   "version": "3.11.7"
  }
 },
 "nbformat": 4,
 "nbformat_minor": 5
}
