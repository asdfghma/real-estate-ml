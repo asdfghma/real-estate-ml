{
 "cells": [
  {
   "cell_type": "code",
   "execution_count": 1,
   "id": "43bcddfd",
   "metadata": {},
   "outputs": [],
   "source": [
    "import numpy as np\n",
    "import pandas as pd\n",
    "import matplotlib.pyplot as plt"
   ]
  },
  {
   "cell_type": "code",
   "execution_count": 2,
   "id": "28fc7b89",
   "metadata": {},
   "outputs": [],
   "source": [
    "df = pd.read_csv(\"data.csv\")"
   ]
  },
  {
   "cell_type": "code",
   "execution_count": 3,
   "id": "53f64ddc",
   "metadata": {},
   "outputs": [
    {
     "data": {
      "text/html": [
       "<div>\n",
       "<style scoped>\n",
       "    .dataframe tbody tr th:only-of-type {\n",
       "        vertical-align: middle;\n",
       "    }\n",
       "\n",
       "    .dataframe tbody tr th {\n",
       "        vertical-align: top;\n",
       "    }\n",
       "\n",
       "    .dataframe thead th {\n",
       "        text-align: right;\n",
       "    }\n",
       "</style>\n",
       "<table border=\"1\" class=\"dataframe\">\n",
       "  <thead>\n",
       "    <tr style=\"text-align: right;\">\n",
       "      <th></th>\n",
       "      <th>city</th>\n",
       "      <th>district</th>\n",
       "      <th>neighborhood</th>\n",
       "      <th>room</th>\n",
       "      <th>living_room</th>\n",
       "      <th>area</th>\n",
       "      <th>age</th>\n",
       "      <th>floor</th>\n",
       "      <th>price</th>\n",
       "    </tr>\n",
       "  </thead>\n",
       "  <tbody>\n",
       "    <tr>\n",
       "      <th>0</th>\n",
       "      <td>izmir</td>\n",
       "      <td>konak</td>\n",
       "      <td>kilic-reis</td>\n",
       "      <td>1</td>\n",
       "      <td>1</td>\n",
       "      <td>55</td>\n",
       "      <td>25</td>\n",
       "      <td>1</td>\n",
       "      <td>12000</td>\n",
       "    </tr>\n",
       "    <tr>\n",
       "      <th>1</th>\n",
       "      <td>izmir</td>\n",
       "      <td>konak</td>\n",
       "      <td>akin-simav</td>\n",
       "      <td>3</td>\n",
       "      <td>1</td>\n",
       "      <td>150</td>\n",
       "      <td>35</td>\n",
       "      <td>3</td>\n",
       "      <td>16000</td>\n",
       "    </tr>\n",
       "    <tr>\n",
       "      <th>2</th>\n",
       "      <td>izmir</td>\n",
       "      <td>buca</td>\n",
       "      <td>adatepe</td>\n",
       "      <td>2</td>\n",
       "      <td>1</td>\n",
       "      <td>55</td>\n",
       "      <td>2</td>\n",
       "      <td>3</td>\n",
       "      <td>200</td>\n",
       "    </tr>\n",
       "    <tr>\n",
       "      <th>3</th>\n",
       "      <td>izmir</td>\n",
       "      <td>buca</td>\n",
       "      <td>yaylacik</td>\n",
       "      <td>2</td>\n",
       "      <td>1</td>\n",
       "      <td>60</td>\n",
       "      <td>2</td>\n",
       "      <td>3</td>\n",
       "      <td>200</td>\n",
       "    </tr>\n",
       "    <tr>\n",
       "      <th>4</th>\n",
       "      <td>izmir</td>\n",
       "      <td>karsiyaka</td>\n",
       "      <td>bahcelievler</td>\n",
       "      <td>3</td>\n",
       "      <td>1</td>\n",
       "      <td>160</td>\n",
       "      <td>27</td>\n",
       "      <td>3</td>\n",
       "      <td>18000</td>\n",
       "    </tr>\n",
       "  </tbody>\n",
       "</table>\n",
       "</div>"
      ],
      "text/plain": [
       "    city   district  neighborhood  room  living_room  area  age  floor  price\n",
       "0  izmir      konak    kilic-reis     1            1    55   25      1  12000\n",
       "1  izmir      konak    akin-simav     3            1   150   35      3  16000\n",
       "2  izmir       buca       adatepe     2            1    55    2      3    200\n",
       "3  izmir       buca      yaylacik     2            1    60    2      3    200\n",
       "4  izmir  karsiyaka  bahcelievler     3            1   160   27      3  18000"
      ]
     },
     "execution_count": 3,
     "metadata": {},
     "output_type": "execute_result"
    }
   ],
   "source": [
    "df.head()"
   ]
  },
  {
   "cell_type": "code",
   "execution_count": 4,
   "id": "8d88f38d",
   "metadata": {},
   "outputs": [
    {
     "name": "stdout",
     "output_type": "stream",
     "text": [
      "<class 'pandas.core.frame.DataFrame'>\n",
      "RangeIndex: 8136 entries, 0 to 8135\n",
      "Data columns (total 9 columns):\n",
      " #   Column        Non-Null Count  Dtype \n",
      "---  ------        --------------  ----- \n",
      " 0   city          8136 non-null   object\n",
      " 1   district      8136 non-null   object\n",
      " 2   neighborhood  8136 non-null   object\n",
      " 3   room          8136 non-null   int64 \n",
      " 4   living_room   8136 non-null   int64 \n",
      " 5   area          8136 non-null   int64 \n",
      " 6   age           8136 non-null   int64 \n",
      " 7   floor         8136 non-null   int64 \n",
      " 8   price         8136 non-null   int64 \n",
      "dtypes: int64(6), object(3)\n",
      "memory usage: 572.2+ KB\n"
     ]
    }
   ],
   "source": [
    "df.info()"
   ]
  },
  {
   "cell_type": "code",
   "execution_count": 5,
   "id": "c75a76f7",
   "metadata": {},
   "outputs": [],
   "source": [
    "df[\"city\"] = df[\"city\"].astype(\"category\")\n",
    "df[\"district\"] = df[\"district\"].astype(\"category\")\n",
    "df[\"neighborhood\"] = df[\"neighborhood\"].astype(\"category\")\n",
    "df[\"room\"] = df[\"room\"].astype(\"int\")\n",
    "df[\"living_room\"] = df[\"living_room\"].astype(\"int\")\n",
    "df[\"area\"] = df[\"area\"].astype(\"int\")\n",
    "df[\"age\"] = df[\"age\"].astype(\"int\")\n",
    "df[\"floor\"] = df[\"floor\"].astype(\"int\")\n",
    "df[\"price\"] = df[\"price\"].astype(\"int\")"
   ]
  },
  {
   "cell_type": "code",
   "execution_count": 6,
   "id": "4da32593",
   "metadata": {},
   "outputs": [
    {
     "name": "stdout",
     "output_type": "stream",
     "text": [
      "<class 'pandas.core.frame.DataFrame'>\n",
      "RangeIndex: 8136 entries, 0 to 8135\n",
      "Data columns (total 9 columns):\n",
      " #   Column        Non-Null Count  Dtype   \n",
      "---  ------        --------------  -----   \n",
      " 0   city          8136 non-null   category\n",
      " 1   district      8136 non-null   category\n",
      " 2   neighborhood  8136 non-null   category\n",
      " 3   room          8136 non-null   int64   \n",
      " 4   living_room   8136 non-null   int64   \n",
      " 5   area          8136 non-null   int64   \n",
      " 6   age           8136 non-null   int64   \n",
      " 7   floor         8136 non-null   int64   \n",
      " 8   price         8136 non-null   int64   \n",
      "dtypes: category(3), int64(6)\n",
      "memory usage: 438.2 KB\n"
     ]
    }
   ],
   "source": [
    "df.info()"
   ]
  },
  {
   "cell_type": "code",
   "execution_count": 7,
   "id": "06e4e1a9",
   "metadata": {},
   "outputs": [
    {
     "name": "stdout",
     "output_type": "stream",
     "text": [
      "Column: room, min: 0.5, max: 4.5\n",
      "Column: living_room, min: 1.0, max: 1.0\n",
      "Column: area, min: -17.5, max: 242.5\n",
      "Column: age, min: -20.0, max: 44.0\n",
      "Column: floor, min: -2.0, max: 6.0\n",
      "Column: price, min: -18000.0, max: 62000.0\n"
     ]
    }
   ],
   "source": [
    "columns = df.select_dtypes(include=[np.number]).columns\n",
    "min_values = []\n",
    "max_values = []\n",
    "for column in columns:\n",
    "    Q1 = df[column].quantile(0.25)\n",
    "    Q3 = df[column].quantile(0.75)\n",
    "    IQR = Q3 - Q1 \n",
    "    min_value = Q1 - 1.5 * IQR\n",
    "    max_value = Q3 + 1.5 * IQR\n",
    "    min_values.append(min_value)\n",
    "    max_values.append(max_value)\n",
    "    print(f\"Column: {column}, min: {min_value}, max: {max_value}\")"
   ]
  },
  {
   "cell_type": "code",
   "execution_count": 9,
   "id": "dd9f87ad",
   "metadata": {},
   "outputs": [],
   "source": [
    "for i, column in enumerate(columns):\n",
    "    df = df[(df[column] >= min_values[i]) & (df[column] <= max_values[i])]"
   ]
  },
  {
   "cell_type": "code",
   "execution_count": 10,
   "id": "2686cc42",
   "metadata": {},
   "outputs": [
    {
     "name": "stdout",
     "output_type": "stream",
     "text": [
      "<class 'pandas.core.frame.DataFrame'>\n",
      "Index: 6212 entries, 0 to 8135\n",
      "Data columns (total 9 columns):\n",
      " #   Column        Non-Null Count  Dtype   \n",
      "---  ------        --------------  -----   \n",
      " 0   city          6212 non-null   category\n",
      " 1   district      6212 non-null   category\n",
      " 2   neighborhood  6212 non-null   category\n",
      " 3   room          6212 non-null   int64   \n",
      " 4   living_room   6212 non-null   int64   \n",
      " 5   area          6212 non-null   int64   \n",
      " 6   age           6212 non-null   int64   \n",
      " 7   floor         6212 non-null   int64   \n",
      " 8   price         6212 non-null   int64   \n",
      "dtypes: category(3), int64(6)\n",
      "memory usage: 388.9 KB\n"
     ]
    }
   ],
   "source": [
    "df.info()"
   ]
  },
  {
   "cell_type": "code",
   "execution_count": 11,
   "id": "0e09edb0",
   "metadata": {},
   "outputs": [
    {
     "data": {
      "text/html": [
       "<div>\n",
       "<style scoped>\n",
       "    .dataframe tbody tr th:only-of-type {\n",
       "        vertical-align: middle;\n",
       "    }\n",
       "\n",
       "    .dataframe tbody tr th {\n",
       "        vertical-align: top;\n",
       "    }\n",
       "\n",
       "    .dataframe thead th {\n",
       "        text-align: right;\n",
       "    }\n",
       "</style>\n",
       "<table border=\"1\" class=\"dataframe\">\n",
       "  <thead>\n",
       "    <tr style=\"text-align: right;\">\n",
       "      <th></th>\n",
       "      <th>room</th>\n",
       "      <th>living_room</th>\n",
       "      <th>area</th>\n",
       "      <th>age</th>\n",
       "      <th>floor</th>\n",
       "      <th>price</th>\n",
       "    </tr>\n",
       "  </thead>\n",
       "  <tbody>\n",
       "    <tr>\n",
       "      <th>count</th>\n",
       "      <td>6212.000000</td>\n",
       "      <td>6212.0</td>\n",
       "      <td>6212.000000</td>\n",
       "      <td>6212.000000</td>\n",
       "      <td>6212.000000</td>\n",
       "      <td>6212.000000</td>\n",
       "    </tr>\n",
       "    <tr>\n",
       "      <th>mean</th>\n",
       "      <td>2.176272</td>\n",
       "      <td>1.0</td>\n",
       "      <td>104.669350</td>\n",
       "      <td>12.653896</td>\n",
       "      <td>2.199614</td>\n",
       "      <td>17900.975853</td>\n",
       "    </tr>\n",
       "    <tr>\n",
       "      <th>std</th>\n",
       "      <td>0.826815</td>\n",
       "      <td>0.0</td>\n",
       "      <td>39.442494</td>\n",
       "      <td>10.451565</td>\n",
       "      <td>1.589618</td>\n",
       "      <td>10467.582893</td>\n",
       "    </tr>\n",
       "    <tr>\n",
       "      <th>min</th>\n",
       "      <td>1.000000</td>\n",
       "      <td>1.0</td>\n",
       "      <td>5.000000</td>\n",
       "      <td>0.000000</td>\n",
       "      <td>-2.000000</td>\n",
       "      <td>1.000000</td>\n",
       "    </tr>\n",
       "    <tr>\n",
       "      <th>25%</th>\n",
       "      <td>2.000000</td>\n",
       "      <td>1.0</td>\n",
       "      <td>75.000000</td>\n",
       "      <td>4.000000</td>\n",
       "      <td>1.000000</td>\n",
       "      <td>11000.000000</td>\n",
       "    </tr>\n",
       "    <tr>\n",
       "      <th>50%</th>\n",
       "      <td>2.000000</td>\n",
       "      <td>1.0</td>\n",
       "      <td>100.000000</td>\n",
       "      <td>10.000000</td>\n",
       "      <td>2.000000</td>\n",
       "      <td>15000.000000</td>\n",
       "    </tr>\n",
       "    <tr>\n",
       "      <th>75%</th>\n",
       "      <td>3.000000</td>\n",
       "      <td>1.0</td>\n",
       "      <td>130.000000</td>\n",
       "      <td>20.000000</td>\n",
       "      <td>3.000000</td>\n",
       "      <td>21000.000000</td>\n",
       "    </tr>\n",
       "    <tr>\n",
       "      <th>max</th>\n",
       "      <td>4.000000</td>\n",
       "      <td>1.0</td>\n",
       "      <td>240.000000</td>\n",
       "      <td>44.000000</td>\n",
       "      <td>6.000000</td>\n",
       "      <td>60000.000000</td>\n",
       "    </tr>\n",
       "  </tbody>\n",
       "</table>\n",
       "</div>"
      ],
      "text/plain": [
       "              room  living_room         area          age        floor  \\\n",
       "count  6212.000000       6212.0  6212.000000  6212.000000  6212.000000   \n",
       "mean      2.176272          1.0   104.669350    12.653896     2.199614   \n",
       "std       0.826815          0.0    39.442494    10.451565     1.589618   \n",
       "min       1.000000          1.0     5.000000     0.000000    -2.000000   \n",
       "25%       2.000000          1.0    75.000000     4.000000     1.000000   \n",
       "50%       2.000000          1.0   100.000000    10.000000     2.000000   \n",
       "75%       3.000000          1.0   130.000000    20.000000     3.000000   \n",
       "max       4.000000          1.0   240.000000    44.000000     6.000000   \n",
       "\n",
       "              price  \n",
       "count   6212.000000  \n",
       "mean   17900.975853  \n",
       "std    10467.582893  \n",
       "min        1.000000  \n",
       "25%    11000.000000  \n",
       "50%    15000.000000  \n",
       "75%    21000.000000  \n",
       "max    60000.000000  "
      ]
     },
     "execution_count": 11,
     "metadata": {},
     "output_type": "execute_result"
    }
   ],
   "source": [
    "df.describe()"
   ]
  },
  {
   "cell_type": "code",
   "execution_count": 12,
   "id": "cc83ca32",
   "metadata": {},
   "outputs": [],
   "source": [
    "df= df[df[\"price\"] >= 3000]"
   ]
  },
  {
   "cell_type": "code",
   "execution_count": 13,
   "id": "bf4c156c",
   "metadata": {},
   "outputs": [],
   "source": [
    "df.to_csv(\"data_cleaned.csv\", index=False)"
   ]
  },
  {
   "cell_type": "code",
   "execution_count": 14,
   "id": "915b4026",
   "metadata": {},
   "outputs": [
    {
     "name": "stdout",
     "output_type": "stream",
     "text": [
      "<class 'pandas.core.frame.DataFrame'>\n",
      "Index: 6116 entries, 0 to 8135\n",
      "Data columns (total 9 columns):\n",
      " #   Column        Non-Null Count  Dtype   \n",
      "---  ------        --------------  -----   \n",
      " 0   city          6116 non-null   category\n",
      " 1   district      6116 non-null   category\n",
      " 2   neighborhood  6116 non-null   category\n",
      " 3   room          6116 non-null   int64   \n",
      " 4   living_room   6116 non-null   int64   \n",
      " 5   area          6116 non-null   int64   \n",
      " 6   age           6116 non-null   int64   \n",
      " 7   floor         6116 non-null   int64   \n",
      " 8   price         6116 non-null   int64   \n",
      "dtypes: category(3), int64(6)\n",
      "memory usage: 383.3 KB\n"
     ]
    }
   ],
   "source": [
    "df.info()"
   ]
  }
 ],
 "metadata": {
  "kernelspec": {
   "display_name": "Python (tf-env)",
   "language": "python",
   "name": "tf-env"
  },
  "language_info": {
   "codemirror_mode": {
    "name": "ipython",
    "version": 3
   },
   "file_extension": ".py",
   "mimetype": "text/x-python",
   "name": "python",
   "nbconvert_exporter": "python",
   "pygments_lexer": "ipython3",
   "version": "3.10.18"
  }
 },
 "nbformat": 4,
 "nbformat_minor": 5
}
