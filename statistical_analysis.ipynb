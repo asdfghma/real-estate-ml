{
 "cells": [
  {
   "cell_type": "code",
   "execution_count": 1,
   "id": "43bcddfd",
   "metadata": {},
   "outputs": [],
   "source": [
    "import numpy as np\n",
    "import pandas as pd\n",
    "import matplotlib.pyplot as plt"
   ]
  },
  {
   "cell_type": "code",
   "execution_count": 2,
   "id": "28fc7b89",
   "metadata": {},
   "outputs": [],
   "source": [
    "df = pd.read_csv(\"data.csv\")"
   ]
  },
  {
   "cell_type": "code",
   "execution_count": 3,
   "id": "53f64ddc",
   "metadata": {},
   "outputs": [
    {
     "data": {
      "text/html": [
       "<div>\n",
       "<style scoped>\n",
       "    .dataframe tbody tr th:only-of-type {\n",
       "        vertical-align: middle;\n",
       "    }\n",
       "\n",
       "    .dataframe tbody tr th {\n",
       "        vertical-align: top;\n",
       "    }\n",
       "\n",
       "    .dataframe thead th {\n",
       "        text-align: right;\n",
       "    }\n",
       "</style>\n",
       "<table border=\"1\" class=\"dataframe\">\n",
       "  <thead>\n",
       "    <tr style=\"text-align: right;\">\n",
       "      <th></th>\n",
       "      <th>city</th>\n",
       "      <th>district</th>\n",
       "      <th>neighborhood</th>\n",
       "      <th>room</th>\n",
       "      <th>living_room</th>\n",
       "      <th>area</th>\n",
       "      <th>age</th>\n",
       "      <th>floor</th>\n",
       "      <th>price</th>\n",
       "    </tr>\n",
       "  </thead>\n",
       "  <tbody>\n",
       "    <tr>\n",
       "      <th>0</th>\n",
       "      <td>izmir</td>\n",
       "      <td>konak</td>\n",
       "      <td>kilic-reis</td>\n",
       "      <td>1</td>\n",
       "      <td>1</td>\n",
       "      <td>55</td>\n",
       "      <td>25</td>\n",
       "      <td>1</td>\n",
       "      <td>12000</td>\n",
       "    </tr>\n",
       "    <tr>\n",
       "      <th>1</th>\n",
       "      <td>izmir</td>\n",
       "      <td>konak</td>\n",
       "      <td>akin-simav</td>\n",
       "      <td>3</td>\n",
       "      <td>1</td>\n",
       "      <td>150</td>\n",
       "      <td>35</td>\n",
       "      <td>3</td>\n",
       "      <td>16000</td>\n",
       "    </tr>\n",
       "    <tr>\n",
       "      <th>2</th>\n",
       "      <td>izmir</td>\n",
       "      <td>buca</td>\n",
       "      <td>adatepe</td>\n",
       "      <td>2</td>\n",
       "      <td>1</td>\n",
       "      <td>55</td>\n",
       "      <td>2</td>\n",
       "      <td>3</td>\n",
       "      <td>200</td>\n",
       "    </tr>\n",
       "    <tr>\n",
       "      <th>3</th>\n",
       "      <td>izmir</td>\n",
       "      <td>buca</td>\n",
       "      <td>yaylacik</td>\n",
       "      <td>2</td>\n",
       "      <td>1</td>\n",
       "      <td>60</td>\n",
       "      <td>2</td>\n",
       "      <td>3</td>\n",
       "      <td>200</td>\n",
       "    </tr>\n",
       "    <tr>\n",
       "      <th>4</th>\n",
       "      <td>izmir</td>\n",
       "      <td>karsiyaka</td>\n",
       "      <td>bahcelievler</td>\n",
       "      <td>3</td>\n",
       "      <td>1</td>\n",
       "      <td>160</td>\n",
       "      <td>27</td>\n",
       "      <td>3</td>\n",
       "      <td>18000</td>\n",
       "    </tr>\n",
       "  </tbody>\n",
       "</table>\n",
       "</div>"
      ],
      "text/plain": [
       "    city   district  neighborhood  room  living_room  area  age  floor  price\n",
       "0  izmir      konak    kilic-reis     1            1    55   25      1  12000\n",
       "1  izmir      konak    akin-simav     3            1   150   35      3  16000\n",
       "2  izmir       buca       adatepe     2            1    55    2      3    200\n",
       "3  izmir       buca      yaylacik     2            1    60    2      3    200\n",
       "4  izmir  karsiyaka  bahcelievler     3            1   160   27      3  18000"
      ]
     },
     "execution_count": 3,
     "metadata": {},
     "output_type": "execute_result"
    }
   ],
   "source": [
    "df.head()"
   ]
  },
  {
   "cell_type": "code",
   "execution_count": 4,
   "id": "8d88f38d",
   "metadata": {},
   "outputs": [
    {
     "name": "stdout",
     "output_type": "stream",
     "text": [
      "<class 'pandas.core.frame.DataFrame'>\n",
      "RangeIndex: 8136 entries, 0 to 8135\n",
      "Data columns (total 9 columns):\n",
      " #   Column        Non-Null Count  Dtype \n",
      "---  ------        --------------  ----- \n",
      " 0   city          8136 non-null   object\n",
      " 1   district      8136 non-null   object\n",
      " 2   neighborhood  8136 non-null   object\n",
      " 3   room          8136 non-null   int64 \n",
      " 4   living_room   8136 non-null   int64 \n",
      " 5   area          8136 non-null   int64 \n",
      " 6   age           8136 non-null   int64 \n",
      " 7   floor         8136 non-null   int64 \n",
      " 8   price         8136 non-null   int64 \n",
      "dtypes: int64(6), object(3)\n",
      "memory usage: 572.2+ KB\n"
     ]
    }
   ],
   "source": [
    "df.info()"
   ]
  },
  {
   "cell_type": "code",
   "execution_count": 5,
   "id": "c75a76f7",
   "metadata": {},
   "outputs": [],
   "source": [
    "df[\"city\"] = df[\"city\"].astype(\"category\")\n",
    "df[\"district\"] = df[\"district\"].astype(\"category\")\n",
    "df[\"neighborhood\"] = df[\"neighborhood\"].astype(\"category\")\n",
    "df[\"room\"] = df[\"room\"].astype(\"int\")\n",
    "df[\"living_room\"] = df[\"living_room\"].astype(\"int\")\n",
    "df[\"area\"] = df[\"area\"].astype(\"int\")\n",
    "df[\"age\"] = df[\"age\"].astype(\"int\")\n",
    "df[\"floor\"] = df[\"floor\"].astype(\"int\")\n",
    "df[\"price\"] = df[\"price\"].astype(\"int\")"
   ]
  },
  {
   "cell_type": "code",
   "execution_count": 6,
   "id": "4da32593",
   "metadata": {},
   "outputs": [
    {
     "name": "stdout",
     "output_type": "stream",
     "text": [
      "<class 'pandas.core.frame.DataFrame'>\n",
      "RangeIndex: 8136 entries, 0 to 8135\n",
      "Data columns (total 9 columns):\n",
      " #   Column        Non-Null Count  Dtype   \n",
      "---  ------        --------------  -----   \n",
      " 0   city          8136 non-null   category\n",
      " 1   district      8136 non-null   category\n",
      " 2   neighborhood  8136 non-null   category\n",
      " 3   room          8136 non-null   int64   \n",
      " 4   living_room   8136 non-null   int64   \n",
      " 5   area          8136 non-null   int64   \n",
      " 6   age           8136 non-null   int64   \n",
      " 7   floor         8136 non-null   int64   \n",
      " 8   price         8136 non-null   int64   \n",
      "dtypes: category(3), int64(6)\n",
      "memory usage: 438.2 KB\n"
     ]
    }
   ],
   "source": [
    "df.info()"
   ]
  },
  {
   "cell_type": "code",
   "execution_count": 7,
   "id": "06e4e1a9",
   "metadata": {},
   "outputs": [
    {
     "name": "stdout",
     "output_type": "stream",
     "text": [
      "Column: room, min: 0.5, max: 4.5\n",
      "Column: living_room, min: 1.0, max: 1.0\n",
      "Column: area, min: -17.5, max: 242.5\n",
      "Column: age, min: -20.0, max: 44.0\n",
      "Column: floor, min: -2.0, max: 6.0\n",
      "Column: price, min: -18000.0, max: 62000.0\n"
     ]
    }
   ],
   "source": [
    "columns = df.select_dtypes(include=[np.number]).columns\n",
    "min_values = []\n",
    "max_values = []\n",
    "for column in columns:\n",
    "    Q1 = df[column].quantile(0.25)\n",
    "    Q3 = df[column].quantile(0.75)\n",
    "    IQR = Q3 - Q1 \n",
    "    min_value = Q1 - 1.5 * IQR\n",
    "    max_value = Q3 + 1.5 * IQR\n",
    "    min_values.append(min_value)\n",
    "    max_values.append(max_values)\n",
    "    print(f\"Column: {column}, min: {min_value}, max: {max_value}\")"
   ]
  },
  {
   "cell_type": "code",
   "execution_count": null,
   "id": "dd9f87ad",
   "metadata": {},
   "outputs": [],
   "source": [
    "# ...existing code...\n",
    "mask = np.ones(len(df), dtype=bool)\n",
    "for i, column in enumerate(columns):\n",
    "    mask &= (df[column] >= min_values[i]) & (df[column] <= max_values[i])\n",
    "df = df[mask]\n",
    "# ...existing code..."
   ]
  },
  {
   "cell_type": "code",
   "execution_count": 1,
   "id": "2686cc42",
   "metadata": {},
   "outputs": [
    {
     "ename": "NameError",
     "evalue": "name 'df' is not defined",
     "output_type": "error",
     "traceback": [
      "\u001b[1;31m---------------------------------------------------------------------------\u001b[0m",
      "\u001b[1;31mNameError\u001b[0m                                 Traceback (most recent call last)",
      "Cell \u001b[1;32mIn[1], line 1\u001b[0m\n\u001b[1;32m----> 1\u001b[0m df\u001b[38;5;241m.\u001b[39minfo()\n",
      "\u001b[1;31mNameError\u001b[0m: name 'df' is not defined"
     ]
    }
   ],
   "source": [
    "df.info()"
   ]
  },
  {
   "cell_type": "code",
   "execution_count": null,
   "id": "0e09edb0",
   "metadata": {},
   "outputs": [],
   "source": [
    "df.describe()"
   ]
  },
  {
   "cell_type": "code",
   "execution_count": null,
   "id": "cc83ca32",
   "metadata": {},
   "outputs": [],
   "source": [
    "df= df[df[\"price\"] >= 3000]"
   ]
  },
  {
   "cell_type": "code",
   "execution_count": null,
   "id": "bf4c156c",
   "metadata": {},
   "outputs": [],
   "source": [
    "df.to_csv(\"data_cleaned.csv\", index=False)"
   ]
  }
 ],
 "metadata": {
  "kernelspec": {
   "display_name": "Python (tf-env)",
   "language": "python",
   "name": "tf-env"
  },
  "language_info": {
   "codemirror_mode": {
    "name": "ipython",
    "version": 3
   },
   "file_extension": ".py",
   "mimetype": "text/x-python",
   "name": "python",
   "nbconvert_exporter": "python",
   "pygments_lexer": "ipython3",
   "version": "3.10.18"
  }
 },
 "nbformat": 4,
 "nbformat_minor": 5
}
